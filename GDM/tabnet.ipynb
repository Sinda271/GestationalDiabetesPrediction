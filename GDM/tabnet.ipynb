{
 "cells": [
  {
   "cell_type": "code",
   "execution_count": 1,
   "id": "5b2f685e",
   "metadata": {},
   "outputs": [],
   "source": [
    "from pytorch_tabnet.tab_model import TabNetClassifier\n",
    "from sklearn.model_selection import train_test_split\n",
    "from sklearn.metrics import accuracy_score, f1_score, precision_score, recall_score, confusion_matrix\n",
    "from sklearn.preprocessing import StandardScaler\n",
    "import pandas as pd\n",
    "import json\n",
    "import tracemalloc\n",
    "import time\n",
    "from pytorch_tabnet.callbacks import Callback\n"
   ]
  },
  {
   "cell_type": "code",
   "execution_count": 2,
   "id": "60780447",
   "metadata": {},
   "outputs": [],
   "source": [
    "class TimeMemoryCallback(Callback):\n",
    "    def __init__(self):\n",
    "        self.epoch_times = []\n",
    "        self.epoch_memory_usage = []\n",
    "\n",
    "    def on_epoch_begin(self, epoch_idx, logs=None):\n",
    "        self.epoch_start_time = time.time()\n",
    "        tracemalloc.start()\n",
    "\n",
    "    def on_epoch_end(self, epoch_idx, logs=None):\n",
    "        end_time = time.time()\n",
    "        current, peak = tracemalloc.get_traced_memory()\n",
    "        tracemalloc.stop()\n",
    "\n",
    "        self.epoch_times.append(end_time - self.epoch_start_time)\n",
    "        self.epoch_memory_usage.append({\n",
    "            \"current_MB\": current / 1024 / 1024,\n",
    "            \"peak_MB\": peak / 1024 / 1024\n",
    "        })\n",
    "\n",
    "\n",
    "def main_tabnet(dataset, epochs=10000):\n",
    "    target = \"Gestational Diabetes\"\n",
    "    df = pd.read_csv(dataset)\n",
    "    X = df.drop(columns=[target])\n",
    "    y = df[target]\n",
    "\n",
    "    scaler = StandardScaler()\n",
    "    X_scaled = scaler.fit_transform(X)\n",
    "\n",
    "    X_train, X_test, y_train, y_test = train_test_split(X_scaled, y, test_size=0.2, random_state=42)\n",
    "    model = TabNetClassifier()\n",
    "\n",
    "    time_memory_callback = TimeMemoryCallback()\n",
    "    model.fit(\n",
    "        X_train=X_train, \n",
    "        y_train=y_train,\n",
    "        eval_set=[(X_test, y_test)],\n",
    "        eval_name=[\"val\"],\n",
    "        eval_metric=[\"accuracy\"],\n",
    "        max_epochs=epochs,\n",
    "        patience=5,\n",
    "        batch_size=1024,\n",
    "        callbacks=[time_memory_callback]\n",
    "    )\n",
    "    \n",
    "    y_pred = model.predict(X_test)\n",
    "    print(f\"Accuracy: {accuracy_score(y_test, y_pred) * 100:.2f}%\")\n",
    "    print(f\"F1 Score: {f1_score(y_test, y_pred, average='macro') * 100:.2f}%\")\n",
    "    print(f\"Precision: {precision_score(y_test, y_pred, average='macro') * 100:.2f}%\")\n",
    "    print(f\"Recall: {recall_score(y_test, y_pred, average='macro') * 100:.2f}%\")\n",
    "    print(f\"Confusion Matrix:\\n{confusion_matrix(y_test, y_pred)}\")\n",
    "\n",
    "    # Convert confusion matrix to list of lists\n",
    "    cm = confusion_matrix(y_test, y_pred)\n",
    "    cm = [[int(x) for x in row] for row in cm]\n",
    "\n",
    "    metrics = {\n",
    "        \"epochs\": epochs,\n",
    "        \"confusion_matrix\": cm,\n",
    "        \"epoch_times\": time_memory_callback.epoch_times,\n",
    "        \"memory_usages\": time_memory_callback.epoch_memory_usage,\n",
    "        \"accuracy\": accuracy_score(y_test, y_pred),\n",
    "        \"f1_score\": f1_score(y_test, y_pred, average=\"macro\"),\n",
    "        \"precision\": precision_score(y_test, y_pred, average=\"macro\"),\n",
    "        \"recall\": recall_score(y_test, y_pred, average=\"macro\")\n",
    "    }\n",
    "    with open(f\"./results/tabnet_metrics_{dataset.split(\"/\")[-1].strip(\".csv\")}.json\", \"w\") as f:\n",
    "        json.dump(metrics, f)\n",
    "    "
   ]
  },
  {
   "cell_type": "code",
   "execution_count": 3,
   "id": "cf493445",
   "metadata": {},
   "outputs": [
    {
     "name": "stderr",
     "output_type": "stream",
     "text": [
      "/Users/sindabesrour/Projects/gestationalDiabetesPrediction/env/lib/python3.13/site-packages/pytorch_tabnet/abstract_model.py:82: UserWarning: Device used : cpu\n",
      "  warnings.warn(f\"Device used : {self.device}\")\n"
     ]
    },
    {
     "name": "stdout",
     "output_type": "stream",
     "text": [
      "epoch 0  | loss: 0.68701 | val_accuracy: 0.60385 |  0:00:02s\n",
      "epoch 1  | loss: 0.65865 | val_accuracy: 0.61718 |  0:00:04s\n",
      "epoch 2  | loss: 0.65101 | val_accuracy: 0.62564 |  0:00:06s\n",
      "epoch 3  | loss: 0.64817 | val_accuracy: 0.62726 |  0:00:08s\n",
      "epoch 4  | loss: 0.64821 | val_accuracy: 0.62286 |  0:00:10s\n",
      "epoch 5  | loss: 0.64184 | val_accuracy: 0.62772 |  0:00:12s\n",
      "epoch 6  | loss: 0.63955 | val_accuracy: 0.63387 |  0:00:14s\n",
      "epoch 7  | loss: 0.63725 | val_accuracy: 0.63584 |  0:00:17s\n",
      "epoch 8  | loss: 0.63687 | val_accuracy: 0.63317 |  0:00:19s\n",
      "epoch 9  | loss: 0.6322  | val_accuracy: 0.6363  |  0:00:21s\n",
      "epoch 10 | loss: 0.63101 | val_accuracy: 0.63758 |  0:00:23s\n",
      "epoch 11 | loss: 0.62579 | val_accuracy: 0.6465  |  0:00:25s\n",
      "epoch 12 | loss: 0.61997 | val_accuracy: 0.65299 |  0:00:27s\n",
      "epoch 13 | loss: 0.61726 | val_accuracy: 0.65148 |  0:00:29s\n",
      "epoch 14 | loss: 0.61449 | val_accuracy: 0.65705 |  0:00:31s\n",
      "epoch 15 | loss: 0.61542 | val_accuracy: 0.65844 |  0:00:33s\n",
      "epoch 16 | loss: 0.6141  | val_accuracy: 0.66006 |  0:00:36s\n",
      "epoch 17 | loss: 0.61175 | val_accuracy: 0.65693 |  0:00:38s\n",
      "epoch 18 | loss: 0.61285 | val_accuracy: 0.65994 |  0:00:40s\n",
      "epoch 19 | loss: 0.61515 | val_accuracy: 0.66134 |  0:00:42s\n",
      "epoch 20 | loss: 0.6108  | val_accuracy: 0.65983 |  0:00:44s\n",
      "epoch 21 | loss: 0.60949 | val_accuracy: 0.66203 |  0:00:46s\n",
      "epoch 22 | loss: 0.6085  | val_accuracy: 0.66667 |  0:00:48s\n",
      "epoch 23 | loss: 0.60648 | val_accuracy: 0.66504 |  0:00:50s\n",
      "epoch 24 | loss: 0.60556 | val_accuracy: 0.66481 |  0:00:53s\n",
      "epoch 25 | loss: 0.60433 | val_accuracy: 0.664   |  0:00:55s\n",
      "epoch 26 | loss: 0.60166 | val_accuracy: 0.67072 |  0:00:57s\n",
      "epoch 27 | loss: 0.59964 | val_accuracy: 0.6647  |  0:00:59s\n",
      "epoch 28 | loss: 0.59819 | val_accuracy: 0.67269 |  0:01:01s\n",
      "epoch 29 | loss: 0.5958  | val_accuracy: 0.67188 |  0:01:03s\n",
      "epoch 30 | loss: 0.59702 | val_accuracy: 0.66829 |  0:01:05s\n",
      "epoch 31 | loss: 0.59482 | val_accuracy: 0.66365 |  0:01:07s\n",
      "epoch 32 | loss: 0.5927  | val_accuracy: 0.66956 |  0:01:10s\n",
      "epoch 33 | loss: 0.59451 | val_accuracy: 0.67768 |  0:01:12s\n",
      "epoch 34 | loss: 0.5922  | val_accuracy: 0.6749  |  0:01:14s\n",
      "epoch 35 | loss: 0.58973 | val_accuracy: 0.67177 |  0:01:16s\n",
      "epoch 36 | loss: 0.59122 | val_accuracy: 0.67385 |  0:01:18s\n",
      "epoch 37 | loss: 0.59109 | val_accuracy: 0.67003 |  0:01:20s\n",
      "epoch 38 | loss: 0.58819 | val_accuracy: 0.67513 |  0:01:22s\n",
      "\n",
      "Early stopping occurred at epoch 38 with best_epoch = 33 and best_val_accuracy = 0.67768\n"
     ]
    },
    {
     "name": "stderr",
     "output_type": "stream",
     "text": [
      "/Users/sindabesrour/Projects/gestationalDiabetesPrediction/env/lib/python3.13/site-packages/pytorch_tabnet/callbacks.py:172: UserWarning: Best weights from best epoch are automatically used!\n",
      "  warnings.warn(wrn_msg)\n"
     ]
    },
    {
     "name": "stdout",
     "output_type": "stream",
     "text": [
      "Accuracy: 67.77%\n",
      "F1 Score: 67.47%\n",
      "Precision: 68.55%\n",
      "Recall: 67.84%\n",
      "Confusion Matrix:\n",
      "[[2514 1830]\n",
      " [ 951 3333]]\n"
     ]
    }
   ],
   "source": [
    "main_tabnet(\"./processed_datasets/dataset_preprocessed_smote.csv\")\n"
   ]
  },
  {
   "cell_type": "code",
   "execution_count": null,
   "id": "e58c27c5",
   "metadata": {},
   "outputs": [],
   "source": [
    "\n"
   ]
  }
 ],
 "metadata": {
  "kernelspec": {
   "display_name": "env",
   "language": "python",
   "name": "python3"
  },
  "language_info": {
   "codemirror_mode": {
    "name": "ipython",
    "version": 3
   },
   "file_extension": ".py",
   "mimetype": "text/x-python",
   "name": "python",
   "nbconvert_exporter": "python",
   "pygments_lexer": "ipython3",
   "version": "3.13.1"
  }
 },
 "nbformat": 4,
 "nbformat_minor": 5
}
