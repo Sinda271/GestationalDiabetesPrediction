{
 "cells": [
  {
   "cell_type": "code",
   "execution_count": 1,
   "metadata": {},
   "outputs": [],
   "source": [
    "import numpy as np \n",
    "import pandas as pd\n",
    "import matplotlib.pyplot as plt\n",
    "from sklearn.decomposition import PCA\n",
    "from sklearn.feature_selection import mutual_info_classif\n",
    "from sklearn.preprocessing import StandardScaler"
   ]
  },
  {
   "cell_type": "markdown",
   "metadata": {},
   "source": [
    "# Load and Explore Dataset"
   ]
  },
  {
   "cell_type": "code",
   "execution_count": 2,
   "metadata": {},
   "outputs": [],
   "source": [
    "data_aug = \"adasyn\""
   ]
  },
  {
   "cell_type": "code",
   "execution_count": 4,
   "metadata": {},
   "outputs": [
    {
     "data": {
      "text/html": [
       "<div>\n",
       "<style scoped>\n",
       "    .dataframe tbody tr th:only-of-type {\n",
       "        vertical-align: middle;\n",
       "    }\n",
       "\n",
       "    .dataframe tbody tr th {\n",
       "        vertical-align: top;\n",
       "    }\n",
       "\n",
       "    .dataframe thead th {\n",
       "        text-align: right;\n",
       "    }\n",
       "</style>\n",
       "<table border=\"1\" class=\"dataframe\">\n",
       "  <thead>\n",
       "    <tr style=\"text-align: right;\">\n",
       "      <th></th>\n",
       "      <th>HighBP</th>\n",
       "      <th>HighChol</th>\n",
       "      <th>CholCheck</th>\n",
       "      <th>BMI</th>\n",
       "      <th>Smoker</th>\n",
       "      <th>Stroke</th>\n",
       "      <th>HeartDiseaseorAttack</th>\n",
       "      <th>PhysActivity</th>\n",
       "      <th>Fruits</th>\n",
       "      <th>Veggies</th>\n",
       "      <th>...</th>\n",
       "      <th>GenHlth</th>\n",
       "      <th>MentHlth</th>\n",
       "      <th>PhysHlth</th>\n",
       "      <th>DiffWalk</th>\n",
       "      <th>Sex</th>\n",
       "      <th>Age</th>\n",
       "      <th>Education</th>\n",
       "      <th>Income</th>\n",
       "      <th>BMI Category</th>\n",
       "      <th>Diabetes_012</th>\n",
       "    </tr>\n",
       "  </thead>\n",
       "  <tbody>\n",
       "    <tr>\n",
       "      <th>0</th>\n",
       "      <td>0</td>\n",
       "      <td>1</td>\n",
       "      <td>1</td>\n",
       "      <td>-2.127247</td>\n",
       "      <td>1</td>\n",
       "      <td>0</td>\n",
       "      <td>0</td>\n",
       "      <td>0</td>\n",
       "      <td>1</td>\n",
       "      <td>1</td>\n",
       "      <td>...</td>\n",
       "      <td>5</td>\n",
       "      <td>10</td>\n",
       "      <td>20</td>\n",
       "      <td>0</td>\n",
       "      <td>0</td>\n",
       "      <td>11</td>\n",
       "      <td>4</td>\n",
       "      <td>5</td>\n",
       "      <td>0</td>\n",
       "      <td>0</td>\n",
       "    </tr>\n",
       "    <tr>\n",
       "      <th>1</th>\n",
       "      <td>1</td>\n",
       "      <td>0</td>\n",
       "      <td>1</td>\n",
       "      <td>-0.170425</td>\n",
       "      <td>0</td>\n",
       "      <td>0</td>\n",
       "      <td>1</td>\n",
       "      <td>0</td>\n",
       "      <td>1</td>\n",
       "      <td>0</td>\n",
       "      <td>...</td>\n",
       "      <td>2</td>\n",
       "      <td>0</td>\n",
       "      <td>0</td>\n",
       "      <td>0</td>\n",
       "      <td>0</td>\n",
       "      <td>11</td>\n",
       "      <td>4</td>\n",
       "      <td>3</td>\n",
       "      <td>2</td>\n",
       "      <td>2</td>\n",
       "    </tr>\n",
       "    <tr>\n",
       "      <th>2</th>\n",
       "      <td>1</td>\n",
       "      <td>1</td>\n",
       "      <td>1</td>\n",
       "      <td>0.582198</td>\n",
       "      <td>0</td>\n",
       "      <td>0</td>\n",
       "      <td>0</td>\n",
       "      <td>1</td>\n",
       "      <td>1</td>\n",
       "      <td>1</td>\n",
       "      <td>...</td>\n",
       "      <td>2</td>\n",
       "      <td>10</td>\n",
       "      <td>0</td>\n",
       "      <td>0</td>\n",
       "      <td>0</td>\n",
       "      <td>9</td>\n",
       "      <td>4</td>\n",
       "      <td>7</td>\n",
       "      <td>3</td>\n",
       "      <td>2</td>\n",
       "    </tr>\n",
       "    <tr>\n",
       "      <th>3</th>\n",
       "      <td>0</td>\n",
       "      <td>1</td>\n",
       "      <td>1</td>\n",
       "      <td>-0.019901</td>\n",
       "      <td>0</td>\n",
       "      <td>1</td>\n",
       "      <td>1</td>\n",
       "      <td>1</td>\n",
       "      <td>1</td>\n",
       "      <td>1</td>\n",
       "      <td>...</td>\n",
       "      <td>5</td>\n",
       "      <td>0</td>\n",
       "      <td>30</td>\n",
       "      <td>1</td>\n",
       "      <td>1</td>\n",
       "      <td>12</td>\n",
       "      <td>3</td>\n",
       "      <td>4</td>\n",
       "      <td>2</td>\n",
       "      <td>2</td>\n",
       "    </tr>\n",
       "    <tr>\n",
       "      <th>4</th>\n",
       "      <td>0</td>\n",
       "      <td>0</td>\n",
       "      <td>1</td>\n",
       "      <td>-0.772524</td>\n",
       "      <td>1</td>\n",
       "      <td>0</td>\n",
       "      <td>0</td>\n",
       "      <td>0</td>\n",
       "      <td>0</td>\n",
       "      <td>0</td>\n",
       "      <td>...</td>\n",
       "      <td>3</td>\n",
       "      <td>0</td>\n",
       "      <td>0</td>\n",
       "      <td>1</td>\n",
       "      <td>1</td>\n",
       "      <td>13</td>\n",
       "      <td>5</td>\n",
       "      <td>6</td>\n",
       "      <td>1</td>\n",
       "      <td>0</td>\n",
       "    </tr>\n",
       "    <tr>\n",
       "      <th>5</th>\n",
       "      <td>1</td>\n",
       "      <td>0</td>\n",
       "      <td>1</td>\n",
       "      <td>1.635872</td>\n",
       "      <td>1</td>\n",
       "      <td>0</td>\n",
       "      <td>0</td>\n",
       "      <td>1</td>\n",
       "      <td>1</td>\n",
       "      <td>1</td>\n",
       "      <td>...</td>\n",
       "      <td>3</td>\n",
       "      <td>5</td>\n",
       "      <td>25</td>\n",
       "      <td>1</td>\n",
       "      <td>0</td>\n",
       "      <td>10</td>\n",
       "      <td>4</td>\n",
       "      <td>8</td>\n",
       "      <td>5</td>\n",
       "      <td>0</td>\n",
       "    </tr>\n",
       "    <tr>\n",
       "      <th>6</th>\n",
       "      <td>1</td>\n",
       "      <td>1</td>\n",
       "      <td>1</td>\n",
       "      <td>-0.320950</td>\n",
       "      <td>1</td>\n",
       "      <td>0</td>\n",
       "      <td>0</td>\n",
       "      <td>0</td>\n",
       "      <td>0</td>\n",
       "      <td>1</td>\n",
       "      <td>...</td>\n",
       "      <td>4</td>\n",
       "      <td>25</td>\n",
       "      <td>0</td>\n",
       "      <td>0</td>\n",
       "      <td>0</td>\n",
       "      <td>10</td>\n",
       "      <td>5</td>\n",
       "      <td>3</td>\n",
       "      <td>2</td>\n",
       "      <td>0</td>\n",
       "    </tr>\n",
       "    <tr>\n",
       "      <th>7</th>\n",
       "      <td>0</td>\n",
       "      <td>0</td>\n",
       "      <td>1</td>\n",
       "      <td>-0.772524</td>\n",
       "      <td>0</td>\n",
       "      <td>0</td>\n",
       "      <td>1</td>\n",
       "      <td>0</td>\n",
       "      <td>0</td>\n",
       "      <td>1</td>\n",
       "      <td>...</td>\n",
       "      <td>4</td>\n",
       "      <td>0</td>\n",
       "      <td>0</td>\n",
       "      <td>0</td>\n",
       "      <td>1</td>\n",
       "      <td>12</td>\n",
       "      <td>6</td>\n",
       "      <td>7</td>\n",
       "      <td>1</td>\n",
       "      <td>2</td>\n",
       "    </tr>\n",
       "    <tr>\n",
       "      <th>8</th>\n",
       "      <td>1</td>\n",
       "      <td>1</td>\n",
       "      <td>1</td>\n",
       "      <td>0.130624</td>\n",
       "      <td>0</td>\n",
       "      <td>0</td>\n",
       "      <td>0</td>\n",
       "      <td>0</td>\n",
       "      <td>1</td>\n",
       "      <td>1</td>\n",
       "      <td>...</td>\n",
       "      <td>2</td>\n",
       "      <td>0</td>\n",
       "      <td>0</td>\n",
       "      <td>0</td>\n",
       "      <td>0</td>\n",
       "      <td>7</td>\n",
       "      <td>4</td>\n",
       "      <td>6</td>\n",
       "      <td>3</td>\n",
       "      <td>0</td>\n",
       "    </tr>\n",
       "    <tr>\n",
       "      <th>9</th>\n",
       "      <td>1</td>\n",
       "      <td>1</td>\n",
       "      <td>1</td>\n",
       "      <td>1.033773</td>\n",
       "      <td>1</td>\n",
       "      <td>0</td>\n",
       "      <td>0</td>\n",
       "      <td>0</td>\n",
       "      <td>0</td>\n",
       "      <td>0</td>\n",
       "      <td>...</td>\n",
       "      <td>4</td>\n",
       "      <td>0</td>\n",
       "      <td>0</td>\n",
       "      <td>0</td>\n",
       "      <td>1</td>\n",
       "      <td>10</td>\n",
       "      <td>4</td>\n",
       "      <td>8</td>\n",
       "      <td>4</td>\n",
       "      <td>0</td>\n",
       "    </tr>\n",
       "  </tbody>\n",
       "</table>\n",
       "<p>10 rows × 23 columns</p>\n",
       "</div>"
      ],
      "text/plain": [
       "   HighBP  HighChol  CholCheck       BMI  Smoker  Stroke  \\\n",
       "0       0         1          1 -2.127247       1       0   \n",
       "1       1         0          1 -0.170425       0       0   \n",
       "2       1         1          1  0.582198       0       0   \n",
       "3       0         1          1 -0.019901       0       1   \n",
       "4       0         0          1 -0.772524       1       0   \n",
       "5       1         0          1  1.635872       1       0   \n",
       "6       1         1          1 -0.320950       1       0   \n",
       "7       0         0          1 -0.772524       0       0   \n",
       "8       1         1          1  0.130624       0       0   \n",
       "9       1         1          1  1.033773       1       0   \n",
       "\n",
       "   HeartDiseaseorAttack  PhysActivity  Fruits  Veggies  ...  GenHlth  \\\n",
       "0                     0             0       1        1  ...        5   \n",
       "1                     1             0       1        0  ...        2   \n",
       "2                     0             1       1        1  ...        2   \n",
       "3                     1             1       1        1  ...        5   \n",
       "4                     0             0       0        0  ...        3   \n",
       "5                     0             1       1        1  ...        3   \n",
       "6                     0             0       0        1  ...        4   \n",
       "7                     1             0       0        1  ...        4   \n",
       "8                     0             0       1        1  ...        2   \n",
       "9                     0             0       0        0  ...        4   \n",
       "\n",
       "   MentHlth  PhysHlth  DiffWalk  Sex  Age  Education  Income  BMI Category  \\\n",
       "0        10        20         0    0   11          4       5             0   \n",
       "1         0         0         0    0   11          4       3             2   \n",
       "2        10         0         0    0    9          4       7             3   \n",
       "3         0        30         1    1   12          3       4             2   \n",
       "4         0         0         1    1   13          5       6             1   \n",
       "5         5        25         1    0   10          4       8             5   \n",
       "6        25         0         0    0   10          5       3             2   \n",
       "7         0         0         0    1   12          6       7             1   \n",
       "8         0         0         0    0    7          4       6             3   \n",
       "9         0         0         0    1   10          4       8             4   \n",
       "\n",
       "   Diabetes_012  \n",
       "0             0  \n",
       "1             2  \n",
       "2             2  \n",
       "3             2  \n",
       "4             0  \n",
       "5             0  \n",
       "6             0  \n",
       "7             2  \n",
       "8             0  \n",
       "9             0  \n",
       "\n",
       "[10 rows x 23 columns]"
      ]
     },
     "execution_count": 4,
     "metadata": {},
     "output_type": "execute_result"
    }
   ],
   "source": [
    "# Load dataset\n",
    "df = pd.read_csv(f'./processed_datasets/dataset_preprocessed_{data_aug}.csv')\n",
    "# View the first 10 rows\n",
    "df.head(10)"
   ]
  },
  {
   "cell_type": "code",
   "execution_count": 5,
   "metadata": {},
   "outputs": [
    {
     "data": {
      "text/plain": [
       "HighBP                  0\n",
       "HighChol                0\n",
       "CholCheck               0\n",
       "BMI                     0\n",
       "Smoker                  0\n",
       "Stroke                  0\n",
       "HeartDiseaseorAttack    0\n",
       "PhysActivity            0\n",
       "Fruits                  0\n",
       "Veggies                 0\n",
       "HvyAlcoholConsump       0\n",
       "AnyHealthcare           0\n",
       "NoDocbcCost             0\n",
       "GenHlth                 0\n",
       "MentHlth                0\n",
       "PhysHlth                0\n",
       "DiffWalk                0\n",
       "Sex                     0\n",
       "Age                     0\n",
       "Education               0\n",
       "Income                  0\n",
       "BMI Category            0\n",
       "Diabetes_012            0\n",
       "dtype: int64"
      ]
     },
     "execution_count": 5,
     "metadata": {},
     "output_type": "execute_result"
    }
   ],
   "source": [
    "# Check if the dataset has null values\n",
    "df.isnull().sum()"
   ]
  },
  {
   "cell_type": "markdown",
   "metadata": {},
   "source": [
    "=> The dataset doesn't contain null values."
   ]
  },
  {
   "cell_type": "code",
   "execution_count": 6,
   "metadata": {},
   "outputs": [
    {
     "name": "stdout",
     "output_type": "stream",
     "text": [
      "<class 'pandas.core.frame.DataFrame'>\n",
      "RangeIndex: 553484 entries, 0 to 553483\n",
      "Data columns (total 23 columns):\n",
      " #   Column                Non-Null Count   Dtype  \n",
      "---  ------                --------------   -----  \n",
      " 0   HighBP                553484 non-null  int64  \n",
      " 1   HighChol              553484 non-null  int64  \n",
      " 2   CholCheck             553484 non-null  int64  \n",
      " 3   BMI                   553484 non-null  float64\n",
      " 4   Smoker                553484 non-null  int64  \n",
      " 5   Stroke                553484 non-null  int64  \n",
      " 6   HeartDiseaseorAttack  553484 non-null  int64  \n",
      " 7   PhysActivity          553484 non-null  int64  \n",
      " 8   Fruits                553484 non-null  int64  \n",
      " 9   Veggies               553484 non-null  int64  \n",
      " 10  HvyAlcoholConsump     553484 non-null  int64  \n",
      " 11  AnyHealthcare         553484 non-null  int64  \n",
      " 12  NoDocbcCost           553484 non-null  int64  \n",
      " 13  GenHlth               553484 non-null  int64  \n",
      " 14  MentHlth              553484 non-null  int64  \n",
      " 15  PhysHlth              553484 non-null  int64  \n",
      " 16  DiffWalk              553484 non-null  int64  \n",
      " 17  Sex                   553484 non-null  int64  \n",
      " 18  Age                   553484 non-null  int64  \n",
      " 19  Education             553484 non-null  int64  \n",
      " 20  Income                553484 non-null  int64  \n",
      " 21  BMI Category          553484 non-null  int64  \n",
      " 22  Diabetes_012          553484 non-null  int64  \n",
      "dtypes: float64(1), int64(22)\n",
      "memory usage: 97.1 MB\n"
     ]
    }
   ],
   "source": [
    "# Check the dataset information, including the number of columns, rows, and data types for each column\n",
    "df.info() "
   ]
  },
  {
   "cell_type": "markdown",
   "metadata": {},
   "source": [
    "=> We have 22 columns (features) and 236,378 rows. The column types are float and int, so encoding is not required for modeling."
   ]
  },
  {
   "cell_type": "code",
   "execution_count": 7,
   "metadata": {},
   "outputs": [
    {
     "data": {
      "text/plain": [
       "44360"
      ]
     },
     "execution_count": 7,
     "metadata": {},
     "output_type": "execute_result"
    }
   ],
   "source": [
    "# Check for duplicate rows\n",
    "int(df.duplicated().sum())"
   ]
  },
  {
   "cell_type": "markdown",
   "metadata": {},
   "source": [
    "=> There are 12,828 duplicate rows that need to be removed to ensure data integrity, avoid bias in the models, and optimize the training process."
   ]
  },
  {
   "cell_type": "code",
   "execution_count": 8,
   "metadata": {},
   "outputs": [
    {
     "data": {
      "text/plain": [
       "0"
      ]
     },
     "execution_count": 8,
     "metadata": {},
     "output_type": "execute_result"
    }
   ],
   "source": [
    "# Remove duplicate rows\n",
    "df.drop_duplicates(inplace=True)\n",
    "int(df.duplicated().sum())"
   ]
  },
  {
   "cell_type": "markdown",
   "metadata": {},
   "source": [
    "=> Duplicates have been successfully removed. The dataset is now clean and ready for further processing."
   ]
  },
  {
   "cell_type": "code",
   "execution_count": 9,
   "metadata": {},
   "outputs": [
    {
     "data": {
      "text/html": [
       "<div>\n",
       "<style scoped>\n",
       "    .dataframe tbody tr th:only-of-type {\n",
       "        vertical-align: middle;\n",
       "    }\n",
       "\n",
       "    .dataframe tbody tr th {\n",
       "        vertical-align: top;\n",
       "    }\n",
       "\n",
       "    .dataframe thead th {\n",
       "        text-align: right;\n",
       "    }\n",
       "</style>\n",
       "<table border=\"1\" class=\"dataframe\">\n",
       "  <thead>\n",
       "    <tr style=\"text-align: right;\">\n",
       "      <th></th>\n",
       "      <th>count</th>\n",
       "      <th>mean</th>\n",
       "      <th>std</th>\n",
       "      <th>min</th>\n",
       "      <th>25%</th>\n",
       "      <th>50%</th>\n",
       "      <th>75%</th>\n",
       "      <th>max</th>\n",
       "    </tr>\n",
       "  </thead>\n",
       "  <tbody>\n",
       "    <tr>\n",
       "      <th>index</th>\n",
       "      <td>509124.0</td>\n",
       "      <td>267144.620780</td>\n",
       "      <td>160654.907114</td>\n",
       "      <td>0.000000</td>\n",
       "      <td>127280.750000</td>\n",
       "      <td>259446.500000</td>\n",
       "      <td>407230.250000</td>\n",
       "      <td>553483.000000</td>\n",
       "    </tr>\n",
       "    <tr>\n",
       "      <th>HighBP</th>\n",
       "      <td>509124.0</td>\n",
       "      <td>0.485658</td>\n",
       "      <td>0.499795</td>\n",
       "      <td>0.000000</td>\n",
       "      <td>0.000000</td>\n",
       "      <td>0.000000</td>\n",
       "      <td>1.000000</td>\n",
       "      <td>1.000000</td>\n",
       "    </tr>\n",
       "    <tr>\n",
       "      <th>HighChol</th>\n",
       "      <td>509124.0</td>\n",
       "      <td>0.447123</td>\n",
       "      <td>0.497197</td>\n",
       "      <td>0.000000</td>\n",
       "      <td>0.000000</td>\n",
       "      <td>0.000000</td>\n",
       "      <td>1.000000</td>\n",
       "      <td>1.000000</td>\n",
       "    </tr>\n",
       "    <tr>\n",
       "      <th>CholCheck</th>\n",
       "      <td>509124.0</td>\n",
       "      <td>0.975318</td>\n",
       "      <td>0.155153</td>\n",
       "      <td>0.000000</td>\n",
       "      <td>1.000000</td>\n",
       "      <td>1.000000</td>\n",
       "      <td>1.000000</td>\n",
       "      <td>1.000000</td>\n",
       "    </tr>\n",
       "    <tr>\n",
       "      <th>BMI</th>\n",
       "      <td>509124.0</td>\n",
       "      <td>0.215357</td>\n",
       "      <td>1.037426</td>\n",
       "      <td>-2.578821</td>\n",
       "      <td>-0.471475</td>\n",
       "      <td>0.043944</td>\n",
       "      <td>0.732723</td>\n",
       "      <td>10.516832</td>\n",
       "    </tr>\n",
       "    <tr>\n",
       "      <th>Smoker</th>\n",
       "      <td>509124.0</td>\n",
       "      <td>0.363666</td>\n",
       "      <td>0.481055</td>\n",
       "      <td>0.000000</td>\n",
       "      <td>0.000000</td>\n",
       "      <td>0.000000</td>\n",
       "      <td>1.000000</td>\n",
       "      <td>1.000000</td>\n",
       "    </tr>\n",
       "    <tr>\n",
       "      <th>Stroke</th>\n",
       "      <td>509124.0</td>\n",
       "      <td>0.025226</td>\n",
       "      <td>0.156810</td>\n",
       "      <td>0.000000</td>\n",
       "      <td>0.000000</td>\n",
       "      <td>0.000000</td>\n",
       "      <td>0.000000</td>\n",
       "      <td>1.000000</td>\n",
       "    </tr>\n",
       "    <tr>\n",
       "      <th>HeartDiseaseorAttack</th>\n",
       "      <td>509124.0</td>\n",
       "      <td>0.075940</td>\n",
       "      <td>0.264903</td>\n",
       "      <td>0.000000</td>\n",
       "      <td>0.000000</td>\n",
       "      <td>0.000000</td>\n",
       "      <td>0.000000</td>\n",
       "      <td>1.000000</td>\n",
       "    </tr>\n",
       "    <tr>\n",
       "      <th>PhysActivity</th>\n",
       "      <td>509124.0</td>\n",
       "      <td>0.656649</td>\n",
       "      <td>0.474828</td>\n",
       "      <td>0.000000</td>\n",
       "      <td>0.000000</td>\n",
       "      <td>1.000000</td>\n",
       "      <td>1.000000</td>\n",
       "      <td>1.000000</td>\n",
       "    </tr>\n",
       "    <tr>\n",
       "      <th>Fruits</th>\n",
       "      <td>509124.0</td>\n",
       "      <td>0.524473</td>\n",
       "      <td>0.499401</td>\n",
       "      <td>0.000000</td>\n",
       "      <td>0.000000</td>\n",
       "      <td>1.000000</td>\n",
       "      <td>1.000000</td>\n",
       "      <td>1.000000</td>\n",
       "    </tr>\n",
       "    <tr>\n",
       "      <th>Veggies</th>\n",
       "      <td>509124.0</td>\n",
       "      <td>0.761194</td>\n",
       "      <td>0.426355</td>\n",
       "      <td>0.000000</td>\n",
       "      <td>1.000000</td>\n",
       "      <td>1.000000</td>\n",
       "      <td>1.000000</td>\n",
       "      <td>1.000000</td>\n",
       "    </tr>\n",
       "    <tr>\n",
       "      <th>HvyAlcoholConsump</th>\n",
       "      <td>509124.0</td>\n",
       "      <td>0.030804</td>\n",
       "      <td>0.172786</td>\n",
       "      <td>0.000000</td>\n",
       "      <td>0.000000</td>\n",
       "      <td>0.000000</td>\n",
       "      <td>0.000000</td>\n",
       "      <td>1.000000</td>\n",
       "    </tr>\n",
       "    <tr>\n",
       "      <th>AnyHealthcare</th>\n",
       "      <td>509124.0</td>\n",
       "      <td>0.952980</td>\n",
       "      <td>0.211682</td>\n",
       "      <td>0.000000</td>\n",
       "      <td>1.000000</td>\n",
       "      <td>1.000000</td>\n",
       "      <td>1.000000</td>\n",
       "      <td>1.000000</td>\n",
       "    </tr>\n",
       "    <tr>\n",
       "      <th>NoDocbcCost</th>\n",
       "      <td>509124.0</td>\n",
       "      <td>0.039990</td>\n",
       "      <td>0.195937</td>\n",
       "      <td>0.000000</td>\n",
       "      <td>0.000000</td>\n",
       "      <td>0.000000</td>\n",
       "      <td>0.000000</td>\n",
       "      <td>1.000000</td>\n",
       "    </tr>\n",
       "    <tr>\n",
       "      <th>GenHlth</th>\n",
       "      <td>509124.0</td>\n",
       "      <td>2.680606</td>\n",
       "      <td>0.983150</td>\n",
       "      <td>1.000000</td>\n",
       "      <td>2.000000</td>\n",
       "      <td>3.000000</td>\n",
       "      <td>3.000000</td>\n",
       "      <td>5.000000</td>\n",
       "    </tr>\n",
       "    <tr>\n",
       "      <th>MentHlth</th>\n",
       "      <td>509124.0</td>\n",
       "      <td>4.582455</td>\n",
       "      <td>8.641359</td>\n",
       "      <td>0.000000</td>\n",
       "      <td>0.000000</td>\n",
       "      <td>0.000000</td>\n",
       "      <td>5.000000</td>\n",
       "      <td>30.000000</td>\n",
       "    </tr>\n",
       "    <tr>\n",
       "      <th>PhysHlth</th>\n",
       "      <td>509124.0</td>\n",
       "      <td>5.065467</td>\n",
       "      <td>9.473482</td>\n",
       "      <td>0.000000</td>\n",
       "      <td>0.000000</td>\n",
       "      <td>0.000000</td>\n",
       "      <td>5.000000</td>\n",
       "      <td>30.000000</td>\n",
       "    </tr>\n",
       "    <tr>\n",
       "      <th>DiffWalk</th>\n",
       "      <td>509124.0</td>\n",
       "      <td>0.171726</td>\n",
       "      <td>0.377143</td>\n",
       "      <td>0.000000</td>\n",
       "      <td>0.000000</td>\n",
       "      <td>0.000000</td>\n",
       "      <td>0.000000</td>\n",
       "      <td>1.000000</td>\n",
       "    </tr>\n",
       "    <tr>\n",
       "      <th>Sex</th>\n",
       "      <td>509124.0</td>\n",
       "      <td>0.404418</td>\n",
       "      <td>0.490780</td>\n",
       "      <td>0.000000</td>\n",
       "      <td>0.000000</td>\n",
       "      <td>0.000000</td>\n",
       "      <td>1.000000</td>\n",
       "      <td>1.000000</td>\n",
       "    </tr>\n",
       "    <tr>\n",
       "      <th>Age</th>\n",
       "      <td>509124.0</td>\n",
       "      <td>8.336103</td>\n",
       "      <td>3.000415</td>\n",
       "      <td>1.000000</td>\n",
       "      <td>6.000000</td>\n",
       "      <td>9.000000</td>\n",
       "      <td>11.000000</td>\n",
       "      <td>13.000000</td>\n",
       "    </tr>\n",
       "    <tr>\n",
       "      <th>Education</th>\n",
       "      <td>509124.0</td>\n",
       "      <td>4.904776</td>\n",
       "      <td>0.995594</td>\n",
       "      <td>1.000000</td>\n",
       "      <td>4.000000</td>\n",
       "      <td>5.000000</td>\n",
       "      <td>6.000000</td>\n",
       "      <td>6.000000</td>\n",
       "    </tr>\n",
       "    <tr>\n",
       "      <th>Income</th>\n",
       "      <td>509124.0</td>\n",
       "      <td>6.315185</td>\n",
       "      <td>2.425790</td>\n",
       "      <td>1.000000</td>\n",
       "      <td>5.000000</td>\n",
       "      <td>6.000000</td>\n",
       "      <td>8.000000</td>\n",
       "      <td>11.000000</td>\n",
       "    </tr>\n",
       "    <tr>\n",
       "      <th>BMI Category</th>\n",
       "      <td>509124.0</td>\n",
       "      <td>2.547448</td>\n",
       "      <td>1.196260</td>\n",
       "      <td>0.000000</td>\n",
       "      <td>2.000000</td>\n",
       "      <td>2.000000</td>\n",
       "      <td>3.000000</td>\n",
       "      <td>5.000000</td>\n",
       "    </tr>\n",
       "    <tr>\n",
       "      <th>Diabetes_012</th>\n",
       "      <td>509124.0</td>\n",
       "      <td>0.962524</td>\n",
       "      <td>0.828287</td>\n",
       "      <td>0.000000</td>\n",
       "      <td>0.000000</td>\n",
       "      <td>1.000000</td>\n",
       "      <td>2.000000</td>\n",
       "      <td>2.000000</td>\n",
       "    </tr>\n",
       "  </tbody>\n",
       "</table>\n",
       "</div>"
      ],
      "text/plain": [
       "                         count           mean            std       min  \\\n",
       "index                 509124.0  267144.620780  160654.907114  0.000000   \n",
       "HighBP                509124.0       0.485658       0.499795  0.000000   \n",
       "HighChol              509124.0       0.447123       0.497197  0.000000   \n",
       "CholCheck             509124.0       0.975318       0.155153  0.000000   \n",
       "BMI                   509124.0       0.215357       1.037426 -2.578821   \n",
       "Smoker                509124.0       0.363666       0.481055  0.000000   \n",
       "Stroke                509124.0       0.025226       0.156810  0.000000   \n",
       "HeartDiseaseorAttack  509124.0       0.075940       0.264903  0.000000   \n",
       "PhysActivity          509124.0       0.656649       0.474828  0.000000   \n",
       "Fruits                509124.0       0.524473       0.499401  0.000000   \n",
       "Veggies               509124.0       0.761194       0.426355  0.000000   \n",
       "HvyAlcoholConsump     509124.0       0.030804       0.172786  0.000000   \n",
       "AnyHealthcare         509124.0       0.952980       0.211682  0.000000   \n",
       "NoDocbcCost           509124.0       0.039990       0.195937  0.000000   \n",
       "GenHlth               509124.0       2.680606       0.983150  1.000000   \n",
       "MentHlth              509124.0       4.582455       8.641359  0.000000   \n",
       "PhysHlth              509124.0       5.065467       9.473482  0.000000   \n",
       "DiffWalk              509124.0       0.171726       0.377143  0.000000   \n",
       "Sex                   509124.0       0.404418       0.490780  0.000000   \n",
       "Age                   509124.0       8.336103       3.000415  1.000000   \n",
       "Education             509124.0       4.904776       0.995594  1.000000   \n",
       "Income                509124.0       6.315185       2.425790  1.000000   \n",
       "BMI Category          509124.0       2.547448       1.196260  0.000000   \n",
       "Diabetes_012          509124.0       0.962524       0.828287  0.000000   \n",
       "\n",
       "                                25%            50%            75%  \\\n",
       "index                 127280.750000  259446.500000  407230.250000   \n",
       "HighBP                     0.000000       0.000000       1.000000   \n",
       "HighChol                   0.000000       0.000000       1.000000   \n",
       "CholCheck                  1.000000       1.000000       1.000000   \n",
       "BMI                       -0.471475       0.043944       0.732723   \n",
       "Smoker                     0.000000       0.000000       1.000000   \n",
       "Stroke                     0.000000       0.000000       0.000000   \n",
       "HeartDiseaseorAttack       0.000000       0.000000       0.000000   \n",
       "PhysActivity               0.000000       1.000000       1.000000   \n",
       "Fruits                     0.000000       1.000000       1.000000   \n",
       "Veggies                    1.000000       1.000000       1.000000   \n",
       "HvyAlcoholConsump          0.000000       0.000000       0.000000   \n",
       "AnyHealthcare              1.000000       1.000000       1.000000   \n",
       "NoDocbcCost                0.000000       0.000000       0.000000   \n",
       "GenHlth                    2.000000       3.000000       3.000000   \n",
       "MentHlth                   0.000000       0.000000       5.000000   \n",
       "PhysHlth                   0.000000       0.000000       5.000000   \n",
       "DiffWalk                   0.000000       0.000000       0.000000   \n",
       "Sex                        0.000000       0.000000       1.000000   \n",
       "Age                        6.000000       9.000000      11.000000   \n",
       "Education                  4.000000       5.000000       6.000000   \n",
       "Income                     5.000000       6.000000       8.000000   \n",
       "BMI Category               2.000000       2.000000       3.000000   \n",
       "Diabetes_012               0.000000       1.000000       2.000000   \n",
       "\n",
       "                                max  \n",
       "index                 553483.000000  \n",
       "HighBP                     1.000000  \n",
       "HighChol                   1.000000  \n",
       "CholCheck                  1.000000  \n",
       "BMI                       10.516832  \n",
       "Smoker                     1.000000  \n",
       "Stroke                     1.000000  \n",
       "HeartDiseaseorAttack       1.000000  \n",
       "PhysActivity               1.000000  \n",
       "Fruits                     1.000000  \n",
       "Veggies                    1.000000  \n",
       "HvyAlcoholConsump          1.000000  \n",
       "AnyHealthcare              1.000000  \n",
       "NoDocbcCost                1.000000  \n",
       "GenHlth                    5.000000  \n",
       "MentHlth                  30.000000  \n",
       "PhysHlth                  30.000000  \n",
       "DiffWalk                   1.000000  \n",
       "Sex                        1.000000  \n",
       "Age                       13.000000  \n",
       "Education                  6.000000  \n",
       "Income                    11.000000  \n",
       "BMI Category               5.000000  \n",
       "Diabetes_012               2.000000  "
      ]
     },
     "execution_count": 9,
     "metadata": {},
     "output_type": "execute_result"
    }
   ],
   "source": [
    "# Display dataset description\n",
    "df = df.reset_index() # Reset the dataset indexes after rempving the duplicates\n",
    "df.describe().T"
   ]
  },
  {
   "cell_type": "markdown",
   "metadata": {},
   "source": [
    "=> From the description, we can observe that all the columns are categorical except the BMI column, which is continuous. This distinction will guide the adoption of appropriate preprocessing techniques and model training strategies. \\\n",
    "=> This result also indicates that it's better to transform all the categorical columns from float to int for several reasons, such as memory efficiency, improved model performance, and precision issues."
   ]
  },
  {
   "cell_type": "code",
   "execution_count": 10,
   "metadata": {},
   "outputs": [
    {
     "name": "stdout",
     "output_type": "stream",
     "text": [
      "<class 'pandas.core.frame.DataFrame'>\n",
      "RangeIndex: 509124 entries, 0 to 509123\n",
      "Data columns (total 24 columns):\n",
      " #   Column                Non-Null Count   Dtype  \n",
      "---  ------                --------------   -----  \n",
      " 0   index                 509124 non-null  int64  \n",
      " 1   HighBP                509124 non-null  int64  \n",
      " 2   HighChol              509124 non-null  int64  \n",
      " 3   CholCheck             509124 non-null  int64  \n",
      " 4   BMI                   509124 non-null  float64\n",
      " 5   Smoker                509124 non-null  int64  \n",
      " 6   Stroke                509124 non-null  int64  \n",
      " 7   HeartDiseaseorAttack  509124 non-null  int64  \n",
      " 8   PhysActivity          509124 non-null  int64  \n",
      " 9   Fruits                509124 non-null  int64  \n",
      " 10  Veggies               509124 non-null  int64  \n",
      " 11  HvyAlcoholConsump     509124 non-null  int64  \n",
      " 12  AnyHealthcare         509124 non-null  int64  \n",
      " 13  NoDocbcCost           509124 non-null  int64  \n",
      " 14  GenHlth               509124 non-null  int64  \n",
      " 15  MentHlth              509124 non-null  int64  \n",
      " 16  PhysHlth              509124 non-null  int64  \n",
      " 17  DiffWalk              509124 non-null  int64  \n",
      " 18  Sex                   509124 non-null  int64  \n",
      " 19  Age                   509124 non-null  int64  \n",
      " 20  Education             509124 non-null  int64  \n",
      " 21  Income                509124 non-null  int64  \n",
      " 22  BMI Category          509124 non-null  int64  \n",
      " 23  Diabetes_012          509124 non-null  int64  \n",
      "dtypes: float64(1), int64(23)\n",
      "memory usage: 93.2 MB\n"
     ]
    }
   ],
   "source": [
    "# Transform categorical columns from float to int\n",
    "categorical_columns = list(df.columns)\n",
    "categorical_columns.remove(\"BMI\") # Get all columns except BMI\n",
    "df[categorical_columns] = df[categorical_columns].astype(int)\n",
    "df.info()"
   ]
  },
  {
   "cell_type": "markdown",
   "metadata": {},
   "source": [
    "=> Now all the categorical columns are of type int, except for the BMI column."
   ]
  },
  {
   "cell_type": "markdown",
   "metadata": {},
   "source": [
    "# Visualization\n",
    "\n",
    "## Distribution of the target (Diabetes)"
   ]
  },
  {
   "cell_type": "code",
   "execution_count": 11,
   "metadata": {},
   "outputs": [
    {
     "data": {
      "image/png": "[encoded data removed]",
      "text/plain": [
       "<Figure size 1500x500 with 2 Axes>"
      ]
     },
     "metadata": {},
     "output_type": "display_data"
    }
   ],
   "source": [
    "types = df['Diabetes_012'].value_counts()\n",
    "colors = ['mediumpurple', 'pink' , \"lightblue\"]\n",
    "\n",
    "# Create a two-subplot layout\n",
    "fig, (ax1, ax2) = plt.subplots(1, 2, figsize=(15, 5))\n",
    "\n",
    "# Bar chart on the first subplot\n",
    "ax1.barh(y=types.index, width=types.values, color=colors)\n",
    "ax1.set_xlabel('Frequency')\n",
    "ax1.set_ylabel('Diabetes')\n",
    "ax1.grid(alpha=0.4)\n",
    "\n",
    "# Pie chart on the second subplot\n",
    "ax2.pie(types.values, labels=types.index, explode=([0.05] * len(types.index)), colors=colors, autopct='%.2f%%')\n",
    "\n",
    "# Configure the overall layout\n",
    "fig.suptitle('Distribution of Diabetes', fontsize=15)\n",
    "plt.tight_layout(pad=1)\n",
    "plt.show()"
   ]
  },
  {
   "cell_type": "markdown",
   "metadata": {},
   "source": [
    "=> The target is very imbalanced. Data augmentation should be applied to balance the categories before the modeling phase."
   ]
  },
  {
   "cell_type": "markdown",
   "metadata": {},
   "source": [
    "## Distribution of Diabetes per feature"
   ]
  },
  {
   "cell_type": "code",
   "execution_count": 12,
   "metadata": {},
   "outputs": [],
   "source": [
    "# Define the function responsible for plotting the distribution of the target per feature\n",
    "def plot_target_distribution_per_feature(feature):\n",
    "    # Create a crosstab table to see the distribution of diabetes across the feature\n",
    "    diabetes_bp_crosstab = pd.crosstab(df[feature], df[\"Diabetes_012\"], margins=False)\n",
    "\n",
    "    # 1. Bar chart (stacked)\n",
    "    plt.figure(figsize=(8, 6))\n",
    "    diabetes_bp_crosstab.plot(kind=\"bar\", stacked=True, color=colors)\n",
    "    plt.xlabel(feature)\n",
    "    plt.ylabel(\"Count\")\n",
    "    plt.title(f\"Distribution of Diabetes By {feature}\")\n",
    "    plt.legend(title=\"Diabetes\", labels=[\"No Diabetes\", \"Prediabetes\", \"Diabetes\"])\n",
    "    plt.show()"
   ]
  },
  {
   "cell_type": "markdown",
   "metadata": {},
   "source": [
    "### Distribution of Diabetes By HighBP"
   ]
  },
  {
   "cell_type": "code",
   "execution_count": 13,
   "metadata": {},
   "outputs": [
    {
     "data": {
      "text/plain": [
       "<Figure size 800x600 with 0 Axes>"
      ]
     },
     "metadata": {},
     "output_type": "display_data"
    },
    {
     "data": {
      "image/png": "[encoded data removed]",
      "text/plain": [
       "<Figure size 640x480 with 1 Axes>"
      ]
     },
     "metadata": {},
     "output_type": "display_data"
    }
   ],
   "source": [
    "plot_target_distribution_per_feature(\"HighBP\")"
   ]
  },
  {
   "cell_type": "markdown",
   "metadata": {},
   "source": [
    "### Distribution of Diabetes By PhysActivity"
   ]
  },
  {
   "cell_type": "code",
   "execution_count": 14,
   "metadata": {},
   "outputs": [
    {
     "data": {
      "text/plain": [
       "<Figure size 800x600 with 0 Axes>"
      ]
     },
     "metadata": {},
     "output_type": "display_data"
    },
    {
     "data": {
      "image/png": "[encoded data removed]",
      "text/plain": [
       "<Figure size 640x480 with 1 Axes>"
      ]
     },
     "metadata": {},
     "output_type": "display_data"
    }
   ],
   "source": [
    "plot_target_distribution_per_feature(\"PhysActivity\")"
   ]
  },
  {
   "cell_type": "markdown",
   "metadata": {},
   "source": [
    "### Distribution of Diabetes By Smoker"
   ]
  },
  {
   "cell_type": "code",
   "execution_count": 15,
   "metadata": {},
   "outputs": [
    {
     "data": {
      "text/plain": [
       "<Figure size 800x600 with 0 Axes>"
      ]
     },
     "metadata": {},
     "output_type": "display_data"
    },
    {
     "data": {
      "image/png": "[encoded data removed]",
      "text/plain": [
       "<Figure size 640x480 with 1 Axes>"
      ]
     },
     "metadata": {},
     "output_type": "display_data"
    }
   ],
   "source": [
    "plot_target_distribution_per_feature(\"Smoker\")"
   ]
  },
  {
   "cell_type": "markdown",
   "metadata": {},
   "source": [
    "### Distribution of Diabetes By Age"
   ]
  },
  {
   "cell_type": "code",
   "execution_count": 16,
   "metadata": {},
   "outputs": [
    {
     "data": {
      "text/plain": [
       "<Figure size 800x600 with 0 Axes>"
      ]
     },
     "metadata": {},
     "output_type": "display_data"
    },
    {
     "data": {
      "image/png": "[encoded data removed]",
      "text/plain": [
       "<Figure size 640x480 with 1 Axes>"
      ]
     },
     "metadata": {},
     "output_type": "display_data"
    }
   ],
   "source": [
    "plot_target_distribution_per_feature(\"Age\")"
   ]
  },
  {
   "cell_type": "markdown",
   "metadata": {},
   "source": [
    "### Distribution of Diabetes By HeartDiseaseorAttack"
   ]
  },
  {
   "cell_type": "code",
   "execution_count": 17,
   "metadata": {},
   "outputs": [
    {
     "data": {
      "text/plain": [
       "<Figure size 800x600 with 0 Axes>"
      ]
     },
     "metadata": {},
     "output_type": "display_data"
    },
    {
     "data": {
      "image/png": "[encoded data removed]",
      "text/plain": [
       "<Figure size 640x480 with 1 Axes>"
      ]
     },
     "metadata": {},
     "output_type": "display_data"
    }
   ],
   "source": [
    "plot_target_distribution_per_feature(\"HeartDiseaseorAttack\")"
   ]
  },
  {
   "cell_type": "markdown",
   "metadata": {},
   "source": [
    "### Distribution of Diabetes By HvyAlcoholConsump"
   ]
  },
  {
   "cell_type": "code",
   "execution_count": 18,
   "metadata": {},
   "outputs": [
    {
     "data": {
      "text/plain": [
       "<Figure size 800x600 with 0 Axes>"
      ]
     },
     "metadata": {},
     "output_type": "display_data"
    },
    {
     "data": {
      "image/png": "[encoded data removed]",
      "text/plain": [
       "<Figure size 640x480 with 1 Axes>"
      ]
     },
     "metadata": {},
     "output_type": "display_data"
    }
   ],
   "source": [
    "plot_target_distribution_per_feature(\"HvyAlcoholConsump\")"
   ]
  },
  {
   "cell_type": "markdown",
   "metadata": {},
   "source": [
    "### Distribution of Diabetes By HighChol"
   ]
  },
  {
   "cell_type": "code",
   "execution_count": 19,
   "metadata": {},
   "outputs": [
    {
     "data": {
      "text/plain": [
       "<Figure size 800x600 with 0 Axes>"
      ]
     },
     "metadata": {},
     "output_type": "display_data"
    },
    {
     "data": {
      "image/png": "[encoded data removed]",
      "text/plain": [
       "<Figure size 640x480 with 1 Axes>"
      ]
     },
     "metadata": {},
     "output_type": "display_data"
    }
   ],
   "source": [
    "plot_target_distribution_per_feature(\"HighChol\")"
   ]
  },
  {
   "cell_type": "markdown",
   "metadata": {},
   "source": [
    "# Feature Selection\n",
    "In this phase, we will select relevant columns after analyzing their correlation with the target."
   ]
  },
  {
   "cell_type": "code",
   "execution_count": 24,
   "metadata": {},
   "outputs": [
    {
     "data": {
      "image/png": "[encoded data removed]",
      "text/plain": [
       "<Figure size 1500x500 with 1 Axes>"
      ]
     },
     "metadata": {},
     "output_type": "display_data"
    }
   ],
   "source": [
    "# Calculate correlation with target for numerical features\n",
    "correlations = df.corrwith(df['Diabetes_012']).drop(['Diabetes_012', 'index'])\n",
    "correlations.plot(kind='bar', figsize=(15, 5), title='Correlation with Target', color=colors)\n",
    "plt.show()"
   ]
  },
  {
   "cell_type": "markdown",
   "metadata": {},
   "source": [
    "Features with higher absolute correlations are more strongly related to the target and may be prioritized in modeling. Features with low correlations contribute less predictive power. \\\n",
    "Hence, we will focus on features with correlations above 0.2 (e.g., GenHlth, HighBP, DiffWalk, HighChol, BMI, BMI Category, and Age). 7 features in total.  \\\n",
    "We will try two methods:\n",
    "1. Use PCA to retain 7 features.\n",
    "2. Retain the 7 features stated above."
   ]
  },
  {
   "cell_type": "markdown",
   "metadata": {},
   "source": [
    "## PCA\n",
    "\n",
    "We will use supervised PCA which is a variant of PCA that incorporates the target variable into the dimensionality reduction process. Unlike standard PCA (unsupervised), which focuses only on maximizing variance in the feature set, supervised PCA prioritizes components most relevant to predicting the target variable."
   ]
  },
  {
   "cell_type": "code",
   "execution_count": 24,
   "metadata": {},
   "outputs": [],
   "source": [
    "# Define a supervised PCA pipeline\n",
    "class SupervisedPCA:\n",
    "    def __init__(self, n_components):\n",
    "        self.n_components = n_components\n",
    "        self.pca = PCA(n_components=n_components)\n",
    "        self.feature_scores = None\n",
    "\n",
    "    def fit(self, X, y):\n",
    "        self.feature_scores = mutual_info_classif(X, y)\n",
    "        X_weighted = X * self.feature_scores\n",
    "        self.pca.fit(X_weighted)\n",
    "        return self\n",
    "\n",
    "    def transform(self, X):\n",
    "        X_weighted = X * self.feature_scores\n",
    "        return self.pca.transform(X_weighted)\n",
    "\n",
    "    def fit_transform(self, X, y):\n",
    "        self.fit(X, y)\n",
    "        return self.transform(X)\n"
   ]
  },
  {
   "cell_type": "code",
   "execution_count": 25,
   "metadata": {},
   "outputs": [
    {
     "data": {
      "text/html": [
       "<div>\n",
       "<style scoped>\n",
       "    .dataframe tbody tr th:only-of-type {\n",
       "        vertical-align: middle;\n",
       "    }\n",
       "\n",
       "    .dataframe tbody tr th {\n",
       "        vertical-align: top;\n",
       "    }\n",
       "\n",
       "    .dataframe thead th {\n",
       "        text-align: right;\n",
       "    }\n",
       "</style>\n",
       "<table border=\"1\" class=\"dataframe\">\n",
       "  <thead>\n",
       "    <tr style=\"text-align: right;\">\n",
       "      <th></th>\n",
       "      <th>PC1</th>\n",
       "      <th>PC2</th>\n",
       "      <th>PC3</th>\n",
       "      <th>PC4</th>\n",
       "      <th>PC5</th>\n",
       "      <th>PC6</th>\n",
       "      <th>PC7</th>\n",
       "      <th>target</th>\n",
       "    </tr>\n",
       "  </thead>\n",
       "  <tbody>\n",
       "    <tr>\n",
       "      <th>0</th>\n",
       "      <td>-231331.035101</td>\n",
       "      <td>-0.865503</td>\n",
       "      <td>0.351236</td>\n",
       "      <td>0.064865</td>\n",
       "      <td>-0.048317</td>\n",
       "      <td>0.025306</td>\n",
       "      <td>0.084202</td>\n",
       "      <td>0</td>\n",
       "    </tr>\n",
       "    <tr>\n",
       "      <th>1</th>\n",
       "      <td>-231330.169161</td>\n",
       "      <td>-0.044977</td>\n",
       "      <td>-0.026083</td>\n",
       "      <td>0.130563</td>\n",
       "      <td>-0.119992</td>\n",
       "      <td>-0.029371</td>\n",
       "      <td>-0.027803</td>\n",
       "      <td>2</td>\n",
       "    </tr>\n",
       "    <tr>\n",
       "      <th>2</th>\n",
       "      <td>-231329.303222</td>\n",
       "      <td>0.277759</td>\n",
       "      <td>-0.057519</td>\n",
       "      <td>0.055979</td>\n",
       "      <td>-0.015296</td>\n",
       "      <td>0.046730</td>\n",
       "      <td>-0.022390</td>\n",
       "      <td>2</td>\n",
       "    </tr>\n",
       "    <tr>\n",
       "      <th>3</th>\n",
       "      <td>-231328.437283</td>\n",
       "      <td>0.040600</td>\n",
       "      <td>0.461108</td>\n",
       "      <td>0.131572</td>\n",
       "      <td>-0.013705</td>\n",
       "      <td>-0.066549</td>\n",
       "      <td>0.048883</td>\n",
       "      <td>2</td>\n",
       "    </tr>\n",
       "    <tr>\n",
       "      <th>4</th>\n",
       "      <td>-231327.571343</td>\n",
       "      <td>-0.305416</td>\n",
       "      <td>-0.015074</td>\n",
       "      <td>0.175164</td>\n",
       "      <td>-0.038547</td>\n",
       "      <td>0.010318</td>\n",
       "      <td>0.029344</td>\n",
       "      <td>0</td>\n",
       "    </tr>\n",
       "    <tr>\n",
       "      <th>...</th>\n",
       "      <td>...</td>\n",
       "      <td>...</td>\n",
       "      <td>...</td>\n",
       "      <td>...</td>\n",
       "      <td>...</td>\n",
       "      <td>...</td>\n",
       "      <td>...</td>\n",
       "      <td>...</td>\n",
       "    </tr>\n",
       "    <tr>\n",
       "      <th>509119</th>\n",
       "      <td>247946.469872</td>\n",
       "      <td>0.002786</td>\n",
       "      <td>-0.116373</td>\n",
       "      <td>0.045068</td>\n",
       "      <td>-0.027496</td>\n",
       "      <td>-0.022604</td>\n",
       "      <td>-0.024117</td>\n",
       "      <td>2</td>\n",
       "    </tr>\n",
       "    <tr>\n",
       "      <th>509120</th>\n",
       "      <td>247947.335811</td>\n",
       "      <td>-0.475537</td>\n",
       "      <td>-0.078139</td>\n",
       "      <td>0.034754</td>\n",
       "      <td>-0.105557</td>\n",
       "      <td>-0.035796</td>\n",
       "      <td>0.020000</td>\n",
       "      <td>2</td>\n",
       "    </tr>\n",
       "    <tr>\n",
       "      <th>509121</th>\n",
       "      <td>247949.067690</td>\n",
       "      <td>-0.788309</td>\n",
       "      <td>-0.063611</td>\n",
       "      <td>0.023623</td>\n",
       "      <td>-0.110730</td>\n",
       "      <td>-0.035114</td>\n",
       "      <td>0.025656</td>\n",
       "      <td>2</td>\n",
       "    </tr>\n",
       "    <tr>\n",
       "      <th>509122</th>\n",
       "      <td>247950.799569</td>\n",
       "      <td>-0.937480</td>\n",
       "      <td>-0.056682</td>\n",
       "      <td>0.018314</td>\n",
       "      <td>-0.113196</td>\n",
       "      <td>-0.034788</td>\n",
       "      <td>0.028353</td>\n",
       "      <td>2</td>\n",
       "    </tr>\n",
       "    <tr>\n",
       "      <th>509123</th>\n",
       "      <td>247951.665508</td>\n",
       "      <td>-0.644371</td>\n",
       "      <td>-0.057105</td>\n",
       "      <td>0.033010</td>\n",
       "      <td>-0.143671</td>\n",
       "      <td>-0.035765</td>\n",
       "      <td>0.065626</td>\n",
       "      <td>2</td>\n",
       "    </tr>\n",
       "  </tbody>\n",
       "</table>\n",
       "<p>509124 rows × 8 columns</p>\n",
       "</div>"
      ],
      "text/plain": [
       "                  PC1       PC2       PC3       PC4       PC5       PC6  \\\n",
       "0      -231331.035101 -0.865503  0.351236  0.064865 -0.048317  0.025306   \n",
       "1      -231330.169161 -0.044977 -0.026083  0.130563 -0.119992 -0.029371   \n",
       "2      -231329.303222  0.277759 -0.057519  0.055979 -0.015296  0.046730   \n",
       "3      -231328.437283  0.040600  0.461108  0.131572 -0.013705 -0.066549   \n",
       "4      -231327.571343 -0.305416 -0.015074  0.175164 -0.038547  0.010318   \n",
       "...               ...       ...       ...       ...       ...       ...   \n",
       "509119  247946.469872  0.002786 -0.116373  0.045068 -0.027496 -0.022604   \n",
       "509120  247947.335811 -0.475537 -0.078139  0.034754 -0.105557 -0.035796   \n",
       "509121  247949.067690 -0.788309 -0.063611  0.023623 -0.110730 -0.035114   \n",
       "509122  247950.799569 -0.937480 -0.056682  0.018314 -0.113196 -0.034788   \n",
       "509123  247951.665508 -0.644371 -0.057105  0.033010 -0.143671 -0.035765   \n",
       "\n",
       "             PC7  target  \n",
       "0       0.084202       0  \n",
       "1      -0.027803       2  \n",
       "2      -0.022390       2  \n",
       "3       0.048883       2  \n",
       "4       0.029344       0  \n",
       "...          ...     ...  \n",
       "509119 -0.024117       2  \n",
       "509120  0.020000       2  \n",
       "509121  0.025656       2  \n",
       "509122  0.028353       2  \n",
       "509123  0.065626       2  \n",
       "\n",
       "[509124 rows x 8 columns]"
      ]
     },
     "execution_count": 25,
     "metadata": {},
     "output_type": "execute_result"
    }
   ],
   "source": [
    "# Split the dataset into features and target\n",
    "X = df.drop('Diabetes_012', axis=1)\n",
    "y = df['Diabetes_012']\n",
    "\n",
    "# Usage of Supervised PCA\n",
    "n_components = 7\n",
    "supervised_pca = SupervisedPCA(n_components=n_components)\n",
    "X_pca_supervised = supervised_pca.fit_transform(X, y)\n",
    "\n",
    "# Create the dataset that contains the selected features using supervised PCA \n",
    "df_pca = pd.DataFrame(X_pca_supervised, columns=[f'PC{i}' for i in range(1, n_components + 1)])\n",
    "df_pca['target'] = y\n",
    "df_pca"
   ]
  },
  {
   "cell_type": "code",
   "execution_count": 26,
   "metadata": {},
   "outputs": [],
   "source": [
    "# Save PCA dataset\n",
    "df_pca.to_csv(f\"./processed_datasets/dataset_{data_aug}_pca.csv\", index=False)"
   ]
  },
  {
   "cell_type": "markdown",
   "metadata": {},
   "source": [
    "## Manual Selection"
   ]
  },
  {
   "cell_type": "code",
   "execution_count": 27,
   "metadata": {},
   "outputs": [
    {
     "data": {
      "text/html": [
       "<div>\n",
       "<style scoped>\n",
       "    .dataframe tbody tr th:only-of-type {\n",
       "        vertical-align: middle;\n",
       "    }\n",
       "\n",
       "    .dataframe tbody tr th {\n",
       "        vertical-align: top;\n",
       "    }\n",
       "\n",
       "    .dataframe thead th {\n",
       "        text-align: right;\n",
       "    }\n",
       "</style>\n",
       "<table border=\"1\" class=\"dataframe\">\n",
       "  <thead>\n",
       "    <tr style=\"text-align: right;\">\n",
       "      <th></th>\n",
       "      <th>GenHlth</th>\n",
       "      <th>HighBP</th>\n",
       "      <th>DiffWalk</th>\n",
       "      <th>HighChol</th>\n",
       "      <th>BMI</th>\n",
       "      <th>BMI Category</th>\n",
       "      <th>Age</th>\n",
       "      <th>Diabetes_012</th>\n",
       "    </tr>\n",
       "  </thead>\n",
       "  <tbody>\n",
       "    <tr>\n",
       "      <th>0</th>\n",
       "      <td>5</td>\n",
       "      <td>0</td>\n",
       "      <td>0</td>\n",
       "      <td>1</td>\n",
       "      <td>-2.258096</td>\n",
       "      <td>0</td>\n",
       "      <td>11</td>\n",
       "      <td>0</td>\n",
       "    </tr>\n",
       "    <tr>\n",
       "      <th>1</th>\n",
       "      <td>2</td>\n",
       "      <td>1</td>\n",
       "      <td>0</td>\n",
       "      <td>0</td>\n",
       "      <td>-0.371866</td>\n",
       "      <td>0</td>\n",
       "      <td>11</td>\n",
       "      <td>2</td>\n",
       "    </tr>\n",
       "    <tr>\n",
       "      <th>2</th>\n",
       "      <td>2</td>\n",
       "      <td>1</td>\n",
       "      <td>0</td>\n",
       "      <td>1</td>\n",
       "      <td>0.353608</td>\n",
       "      <td>0</td>\n",
       "      <td>9</td>\n",
       "      <td>2</td>\n",
       "    </tr>\n",
       "    <tr>\n",
       "      <th>3</th>\n",
       "      <td>5</td>\n",
       "      <td>0</td>\n",
       "      <td>1</td>\n",
       "      <td>1</td>\n",
       "      <td>-0.226771</td>\n",
       "      <td>0</td>\n",
       "      <td>12</td>\n",
       "      <td>2</td>\n",
       "    </tr>\n",
       "    <tr>\n",
       "      <th>4</th>\n",
       "      <td>3</td>\n",
       "      <td>0</td>\n",
       "      <td>1</td>\n",
       "      <td>0</td>\n",
       "      <td>-0.952244</td>\n",
       "      <td>0</td>\n",
       "      <td>13</td>\n",
       "      <td>0</td>\n",
       "    </tr>\n",
       "    <tr>\n",
       "      <th>...</th>\n",
       "      <td>...</td>\n",
       "      <td>...</td>\n",
       "      <td>...</td>\n",
       "      <td>...</td>\n",
       "      <td>...</td>\n",
       "      <td>...</td>\n",
       "      <td>...</td>\n",
       "      <td>...</td>\n",
       "    </tr>\n",
       "    <tr>\n",
       "      <th>509119</th>\n",
       "      <td>2</td>\n",
       "      <td>1</td>\n",
       "      <td>0</td>\n",
       "      <td>1</td>\n",
       "      <td>0.320868</td>\n",
       "      <td>0</td>\n",
       "      <td>10</td>\n",
       "      <td>2</td>\n",
       "    </tr>\n",
       "    <tr>\n",
       "      <th>509120</th>\n",
       "      <td>3</td>\n",
       "      <td>1</td>\n",
       "      <td>0</td>\n",
       "      <td>1</td>\n",
       "      <td>-0.760450</td>\n",
       "      <td>0</td>\n",
       "      <td>10</td>\n",
       "      <td>2</td>\n",
       "    </tr>\n",
       "    <tr>\n",
       "      <th>509121</th>\n",
       "      <td>3</td>\n",
       "      <td>1</td>\n",
       "      <td>0</td>\n",
       "      <td>1</td>\n",
       "      <td>-1.465136</td>\n",
       "      <td>0</td>\n",
       "      <td>10</td>\n",
       "      <td>2</td>\n",
       "    </tr>\n",
       "    <tr>\n",
       "      <th>509122</th>\n",
       "      <td>3</td>\n",
       "      <td>1</td>\n",
       "      <td>0</td>\n",
       "      <td>1</td>\n",
       "      <td>-1.801224</td>\n",
       "      <td>0</td>\n",
       "      <td>10</td>\n",
       "      <td>2</td>\n",
       "    </tr>\n",
       "    <tr>\n",
       "      <th>509123</th>\n",
       "      <td>4</td>\n",
       "      <td>1</td>\n",
       "      <td>0</td>\n",
       "      <td>1</td>\n",
       "      <td>-1.144641</td>\n",
       "      <td>0</td>\n",
       "      <td>10</td>\n",
       "      <td>2</td>\n",
       "    </tr>\n",
       "  </tbody>\n",
       "</table>\n",
       "<p>509124 rows × 8 columns</p>\n",
       "</div>"
      ],
      "text/plain": [
       "        GenHlth  HighBP  DiffWalk  HighChol       BMI  BMI Category  Age  \\\n",
       "0             5       0         0         1 -2.258096             0   11   \n",
       "1             2       1         0         0 -0.371866             0   11   \n",
       "2             2       1         0         1  0.353608             0    9   \n",
       "3             5       0         1         1 -0.226771             0   12   \n",
       "4             3       0         1         0 -0.952244             0   13   \n",
       "...         ...     ...       ...       ...       ...           ...  ...   \n",
       "509119        2       1         0         1  0.320868             0   10   \n",
       "509120        3       1         0         1 -0.760450             0   10   \n",
       "509121        3       1         0         1 -1.465136             0   10   \n",
       "509122        3       1         0         1 -1.801224             0   10   \n",
       "509123        4       1         0         1 -1.144641             0   10   \n",
       "\n",
       "        Diabetes_012  \n",
       "0                  0  \n",
       "1                  2  \n",
       "2                  2  \n",
       "3                  2  \n",
       "4                  0  \n",
       "...              ...  \n",
       "509119             2  \n",
       "509120             2  \n",
       "509121             2  \n",
       "509122             2  \n",
       "509123             2  \n",
       "\n",
       "[509124 rows x 8 columns]"
      ]
     },
     "execution_count": 27,
     "metadata": {},
     "output_type": "execute_result"
    }
   ],
   "source": [
    "df_manual = df[['GenHlth', 'HighBP', 'DiffWalk', 'HighChol', 'BMI', 'BMI Category', 'Age', 'Diabetes_012']]\n",
    "df_manual"
   ]
  },
  {
   "cell_type": "code",
   "execution_count": 28,
   "metadata": {},
   "outputs": [],
   "source": [
    "# Save manual dataset\n",
    "df_manual.to_csv(f\"./processed_datasets/dataset_{data_aug}_manual.csv\", index=False)"
   ]
  },
  {
   "cell_type": "code",
   "execution_count": null,
   "metadata": {},
   "outputs": [],
   "source": []
  }
 ],
 "metadata": {
  "kernelspec": {
   "display_name": "env",
   "language": "python",
   "name": "python3"
  },
  "language_info": {
   "codemirror_mode": {
    "name": "ipython",
    "version": 3
   },
   "file_extension": ".py",
   "mimetype": "text/x-python",
   "name": "python",
   "nbconvert_exporter": "python",
   "pygments_lexer": "ipython3",
   "version": "3.13.1"
  }
 },
 "nbformat": 4,
 "nbformat_minor": 2
}
