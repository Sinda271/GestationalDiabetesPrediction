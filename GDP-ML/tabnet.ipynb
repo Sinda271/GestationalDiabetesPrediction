{
 "cells": [
  {
   "cell_type": "code",
   "execution_count": 38,
   "id": "5b2f685e",
   "metadata": {},
   "outputs": [],
   "source": [
    "from pytorch_tabnet.tab_model import TabNetClassifier\n",
    "from sklearn.model_selection import train_test_split\n",
    "from sklearn.metrics import accuracy_score, f1_score, precision_score, recall_score, confusion_matrix\n",
    "from sklearn.preprocessing import StandardScaler\n",
    "import pandas as pd\n",
    "import json\n",
    "import tracemalloc\n",
    "import time\n",
    "from pytorch_tabnet.callbacks import Callback\n"
   ]
  },
  {
   "cell_type": "code",
   "execution_count": 39,
   "id": "60780447",
   "metadata": {},
   "outputs": [],
   "source": [
    "class TimeMemoryCallback(Callback):\n",
    "    def __init__(self):\n",
    "        self.epoch_times = []\n",
    "        self.epoch_memory_usage = []\n",
    "\n",
    "    def on_epoch_begin(self, epoch_idx, logs=None):\n",
    "        self.epoch_start_time = time.time()\n",
    "        tracemalloc.start()\n",
    "\n",
    "    def on_epoch_end(self, epoch_idx, logs=None):\n",
    "        end_time = time.time()\n",
    "        current, peak = tracemalloc.get_traced_memory()\n",
    "        tracemalloc.stop()\n",
    "\n",
    "        self.epoch_times.append(end_time - self.epoch_start_time)\n",
    "        self.epoch_memory_usage.append({\n",
    "            \"current_MB\": current / 1024 / 1024,\n",
    "            \"peak_MB\": peak / 1024 / 1024\n",
    "        })\n",
    "\n",
    "\n",
    "def main_tabnet(dataset, epochs=10000):\n",
    "\n",
    "    df = pd.read_csv(dataset)\n",
    "    X = df.drop(columns=[\"Diabetes_012\"])\n",
    "    y = df[\"Diabetes_012\"]\n",
    "\n",
    "    scaler = StandardScaler()\n",
    "    X_scaled = scaler.fit_transform(X)\n",
    "\n",
    "    X_train, X_test, y_train, y_test = train_test_split(X_scaled, y, test_size=0.2, random_state=42)\n",
    "    model = TabNetClassifier()\n",
    "\n",
    "    time_memory_callback = TimeMemoryCallback()\n",
    "    model.fit(\n",
    "        X_train=X_train, \n",
    "        y_train=y_train,\n",
    "        eval_set=[(X_test, y_test)],\n",
    "        eval_name=[\"val\"],\n",
    "        eval_metric=[\"accuracy\"],\n",
    "        max_epochs=epochs,\n",
    "        patience=5,\n",
    "        batch_size=1024,\n",
    "        callbacks=[time_memory_callback]\n",
    "    )\n",
    "    \n",
    "    y_pred = model.predict(X_test)\n",
    "    print(f\"Accuracy: {accuracy_score(y_test, y_pred) * 100:.2f}%\")\n",
    "    print(f\"F1 Score: {f1_score(y_test, y_pred, average='macro') * 100:.2f}%\")\n",
    "    print(f\"Precision: {precision_score(y_test, y_pred, average='macro') * 100:.2f}%\")\n",
    "    print(f\"Recall: {recall_score(y_test, y_pred, average='macro') * 100:.2f}%\")\n",
    "    print(f\"Confusion Matrix:\\n{confusion_matrix(y_test, y_pred)}\")\n",
    "\n",
    "    # Convert confusion matrix to list of lists\n",
    "    cm = confusion_matrix(y_test, y_pred)\n",
    "    cm = [[int(x) for x in row] for row in cm]\n",
    "\n",
    "    metrics = {\n",
    "        \"epochs\": epochs,\n",
    "        \"confusion_matrix\": cm,\n",
    "        \"epoch_times\": time_memory_callback.epoch_times,\n",
    "        \"memory_usages\": time_memory_callback.epoch_memory_usage,\n",
    "        \"accuracy\": accuracy_score(y_test, y_pred),\n",
    "        \"f1_score\": f1_score(y_test, y_pred, average=\"macro\"),\n",
    "        \"precision\": precision_score(y_test, y_pred, average=\"macro\"),\n",
    "        \"recall\": recall_score(y_test, y_pred, average=\"macro\")\n",
    "    }\n",
    "    with open(f\"./results/tabnet_metrics_{dataset.split(\"/\")[-1].strip(\".csv\")}.json\", \"w\") as f:\n",
    "        json.dump(metrics, f)\n",
    "    "
   ]
  },
  {
   "cell_type": "code",
   "execution_count": 40,
   "id": "cf493445",
   "metadata": {},
   "outputs": [
    {
     "name": "stderr",
     "output_type": "stream",
     "text": [
      "/Users/sindabesrour/Projects/gestationalDiabetesPrediction/env/lib/python3.13/site-packages/pytorch_tabnet/abstract_model.py:82: UserWarning: Device used : cpu\n",
      "  warnings.warn(f\"Device used : {self.device}\")\n"
     ]
    },
    {
     "name": "stdout",
     "output_type": "stream",
     "text": [
      "epoch 0  | loss: 0.27954 | val_accuracy: 0.92133 |  0:00:31s\n",
      "epoch 1  | loss: 0.24581 | val_accuracy: 0.92205 |  0:01:02s\n",
      "epoch 2  | loss: 0.24702 | val_accuracy: 0.91955 |  0:01:33s\n",
      "epoch 3  | loss: 0.24463 | val_accuracy: 0.91988 |  0:02:04s\n",
      "epoch 4  | loss: 0.24397 | val_accuracy: 0.91986 |  0:02:35s\n",
      "epoch 5  | loss: 0.24915 | val_accuracy: 0.92099 |  0:03:05s\n",
      "epoch 6  | loss: 0.24525 | val_accuracy: 0.9204  |  0:03:37s\n",
      "\n",
      "Early stopping occurred at epoch 6 with best_epoch = 1 and best_val_accuracy = 0.92205\n"
     ]
    },
    {
     "name": "stderr",
     "output_type": "stream",
     "text": [
      "/Users/sindabesrour/Projects/gestationalDiabetesPrediction/env/lib/python3.13/site-packages/pytorch_tabnet/callbacks.py:172: UserWarning: Best weights from best epoch are automatically used!\n",
      "  warnings.warn(wrn_msg)\n"
     ]
    },
    {
     "name": "stdout",
     "output_type": "stream",
     "text": [
      "Accuracy: 92.21%\n",
      "F1 Score: 92.35%\n",
      "Precision: 93.99%\n",
      "Recall: 91.99%\n",
      "Confusion Matrix:\n",
      "[[36852   105     0]\n",
      " [ 1124 30476    40]\n",
      " [ 6610    58 26560]]\n"
     ]
    }
   ],
   "source": [
    "main_tabnet(\"./processed_datasets/CL/dataset_dataset_without_da_pca_rfe_CL.csv\")\n"
   ]
  },
  {
   "cell_type": "code",
   "execution_count": null,
   "id": "e58c27c5",
   "metadata": {},
   "outputs": [],
   "source": [
    "\n"
   ]
  }
 ],
 "metadata": {
  "kernelspec": {
   "display_name": "env",
   "language": "python",
   "name": "python3"
  },
  "language_info": {
   "codemirror_mode": {
    "name": "ipython",
    "version": 3
   },
   "file_extension": ".py",
   "mimetype": "text/x-python",
   "name": "python",
   "nbconvert_exporter": "python",
   "pygments_lexer": "ipython3",
   "version": "3.13.1"
  }
 },
 "nbformat": 4,
 "nbformat_minor": 5
}
