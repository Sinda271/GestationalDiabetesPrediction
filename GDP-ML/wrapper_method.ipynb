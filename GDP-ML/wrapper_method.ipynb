{
 "cells": [
  {
   "cell_type": "code",
   "execution_count": null,
   "metadata": {},
   "outputs": [],
   "source": [
    "from sklearn.feature_selection import RFE\n",
    "from sklearn.ensemble import RandomForestClassifier\n",
    "import pandas as pd\n"
   ]
  },
  {
   "cell_type": "markdown",
   "metadata": {},
   "source": [
    "## Forward Selection with RFE"
   ]
  },
  {
   "cell_type": "code",
   "execution_count": 35,
   "metadata": {},
   "outputs": [
    {
     "data": {
      "text/plain": [
       "index                   0\n",
       "HighBP                  0\n",
       "HighChol                0\n",
       "CholCheck               0\n",
       "BMI                     0\n",
       "Smoker                  0\n",
       "Stroke                  0\n",
       "HeartDiseaseorAttack    0\n",
       "PhysActivity            0\n",
       "Fruits                  0\n",
       "Veggies                 0\n",
       "HvyAlcoholConsump       0\n",
       "AnyHealthcare           0\n",
       "NoDocbcCost             0\n",
       "GenHlth                 0\n",
       "MentHlth                0\n",
       "PhysHlth                0\n",
       "DiffWalk                0\n",
       "Sex                     0\n",
       "Age                     0\n",
       "Education               0\n",
       "Income                  0\n",
       "BMI Category            0\n",
       "Diabetes_012            0\n",
       "dtype: int64"
      ]
     },
     "execution_count": 35,
     "metadata": {},
     "output_type": "execute_result"
    }
   ],
   "source": [
    "# No DA\n",
    "df = pd.read_csv('./processed_datasets/dataset_preprocessed.csv')\n",
    "df.isnull().sum()"
   ]
  },
  {
   "cell_type": "code",
   "execution_count": 36,
   "metadata": {},
   "outputs": [],
   "source": [
    "X = df.drop('Diabetes_012', axis=1)\n",
    "y = df['Diabetes_012']"
   ]
  },
  {
   "cell_type": "code",
   "execution_count": 37,
   "metadata": {},
   "outputs": [
    {
     "name": "stdout",
     "output_type": "stream",
     "text": [
      "Selected Features:  [[ 0.00000000e+00  0.00000000e+00 -2.12724693e+00 ...  1.10000000e+01\n",
      "   4.00000000e+00  5.00000000e+00]\n",
      " [ 1.00000000e+00  1.00000000e+00 -1.70425254e-01 ...  1.10000000e+01\n",
      "   4.00000000e+00  3.00000000e+00]\n",
      " [ 2.00000000e+00  1.00000000e+00  5.82198469e-01 ...  9.00000000e+00\n",
      "   4.00000000e+00  7.00000000e+00]\n",
      " ...\n",
      " [ 5.53480000e+05  1.00000000e+00 -1.30461110e+00 ...  1.00000000e+01\n",
      "   2.00000000e+00  3.00000000e+00]\n",
      " [ 5.53482000e+05  1.00000000e+00 -1.65327735e+00 ...  1.00000000e+01\n",
      "   2.00000000e+00  3.00000000e+00]\n",
      " [ 5.53483000e+05  1.00000000e+00 -9.72121218e-01 ...  1.00000000e+01\n",
      "   2.00000000e+00  2.00000000e+00]]\n"
     ]
    }
   ],
   "source": [
    "# Define the model\n",
    "model = RandomForestClassifier()\n",
    "\n",
    "# Perform RFE\n",
    "rfe = RFE(estimator=model, n_features_to_select=11)  # Keep  11 features\n",
    "X_selected = rfe.fit_transform(X, y)\n",
    "\n",
    "# Display selected features\n",
    "print(\"Selected Features: \", X_selected)"
   ]
  },
  {
   "cell_type": "code",
   "execution_count": 38,
   "metadata": {},
   "outputs": [],
   "source": [
    "df = pd.DataFrame(X_selected, columns=[f\"FS{i}\" for i in range(1,12)])\n",
    "df[\"Diabetes_012\"] = y\n",
    "df.to_csv(f\"./processed_datasets/dataset_without_da_rfe.csv\", index=False)"
   ]
  },
  {
   "cell_type": "code",
   "execution_count": 18,
   "metadata": {},
   "outputs": [
    {
     "data": {
      "text/plain": [
       "HighBP                  0\n",
       "HighChol                0\n",
       "CholCheck               0\n",
       "BMI                     0\n",
       "Smoker                  0\n",
       "Stroke                  0\n",
       "HeartDiseaseorAttack    0\n",
       "PhysActivity            0\n",
       "Fruits                  0\n",
       "Veggies                 0\n",
       "HvyAlcoholConsump       0\n",
       "AnyHealthcare           0\n",
       "NoDocbcCost             0\n",
       "GenHlth                 0\n",
       "MentHlth                0\n",
       "PhysHlth                0\n",
       "DiffWalk                0\n",
       "Sex                     0\n",
       "Age                     0\n",
       "Education               0\n",
       "Income                  0\n",
       "BMI Category            0\n",
       "Diabetes_012            0\n",
       "dtype: int64"
      ]
     },
     "execution_count": 18,
     "metadata": {},
     "output_type": "execute_result"
    }
   ],
   "source": [
    "# SMOTE\n",
    "df = pd.read_csv('./processed_datasets/dataset_preprocessed_smote.csv')\n",
    "df.isnull().sum()"
   ]
  },
  {
   "cell_type": "code",
   "execution_count": 19,
   "metadata": {},
   "outputs": [],
   "source": [
    "X = df.drop('Diabetes_012', axis=1)\n",
    "y = df['Diabetes_012']"
   ]
  },
  {
   "cell_type": "code",
   "execution_count": 20,
   "metadata": {},
   "outputs": [
    {
     "name": "stdout",
     "output_type": "stream",
     "text": [
      "Selected Features:  [[ 0.          1.         -2.12724693 ...  4.          5.\n",
      "   0.        ]\n",
      " [ 1.          0.         -0.17042525 ...  4.          3.\n",
      "   2.        ]\n",
      " [ 1.          1.          0.58219847 ...  4.          7.\n",
      "   3.        ]\n",
      " ...\n",
      " [ 1.          1.          0.43167372 ...  6.          9.\n",
      "   3.        ]\n",
      " [ 1.          1.          0.2294433  ...  5.          5.\n",
      "   3.        ]\n",
      " [ 1.          1.          1.35422925 ...  3.          1.\n",
      "   4.        ]]\n"
     ]
    }
   ],
   "source": [
    "# Define the model\n",
    "model = RandomForestClassifier()\n",
    "\n",
    "# Perform RFE\n",
    "rfe = RFE(estimator=model, n_features_to_select=11)  # Keep 11 features\n",
    "X_selected = rfe.fit_transform(X, y)\n",
    "\n",
    "# Display selected features\n",
    "print(\"Selected Features: \", X_selected)"
   ]
  },
  {
   "cell_type": "code",
   "execution_count": 21,
   "metadata": {},
   "outputs": [],
   "source": [
    "df = pd.DataFrame(X_selected, columns=[f\"FS{i}\" for i in range(1,12)])\n",
    "df[\"Diabetes_012\"] = y\n",
    "df.to_csv(f\"./processed_datasets/dataset_smote_rfe.csv\", index=False)"
   ]
  },
  {
   "cell_type": "code",
   "execution_count": 22,
   "metadata": {},
   "outputs": [
    {
     "data": {
      "text/plain": [
       "HighBP                  0\n",
       "HighChol                0\n",
       "CholCheck               0\n",
       "BMI                     0\n",
       "Smoker                  0\n",
       "Stroke                  0\n",
       "HeartDiseaseorAttack    0\n",
       "PhysActivity            0\n",
       "Fruits                  0\n",
       "Veggies                 0\n",
       "HvyAlcoholConsump       0\n",
       "AnyHealthcare           0\n",
       "NoDocbcCost             0\n",
       "GenHlth                 0\n",
       "MentHlth                0\n",
       "PhysHlth                0\n",
       "DiffWalk                0\n",
       "Sex                     0\n",
       "Age                     0\n",
       "Education               0\n",
       "Income                  0\n",
       "BMI Category            0\n",
       "Diabetes_012            0\n",
       "dtype: int64"
      ]
     },
     "execution_count": 22,
     "metadata": {},
     "output_type": "execute_result"
    }
   ],
   "source": [
    "# Adasyn\n",
    "df = pd.read_csv('./processed_datasets/dataset_preprocessed_adasyn.csv')\n",
    "df.isnull().sum()"
   ]
  },
  {
   "cell_type": "code",
   "execution_count": 23,
   "metadata": {},
   "outputs": [],
   "source": [
    "X = df.drop('Diabetes_012', axis=1)\n",
    "y = df['Diabetes_012']"
   ]
  },
  {
   "cell_type": "code",
   "execution_count": 24,
   "metadata": {},
   "outputs": [
    {
     "name": "stdout",
     "output_type": "stream",
     "text": [
      "Selected Features:  [[ 1.         -2.12724693  1.         ...  4.          5.\n",
      "   0.        ]\n",
      " [ 0.         -0.17042525  1.         ...  4.          3.\n",
      "   2.        ]\n",
      " [ 1.          0.58219847  1.         ...  4.          7.\n",
      "   3.        ]\n",
      " ...\n",
      " [ 0.         -1.22409846  1.         ...  2.          3.\n",
      "   1.        ]\n",
      " [ 1.         -1.65327735  1.         ...  2.          3.\n",
      "   0.        ]\n",
      " [ 1.         -0.97212122  1.         ...  2.          2.\n",
      "   1.        ]]\n"
     ]
    }
   ],
   "source": [
    "# Define the model\n",
    "model = RandomForestClassifier()\n",
    "\n",
    "# Perform RFE\n",
    "rfe = RFE(estimator=model, n_features_to_select=11)  # Keep  11 features\n",
    "X_selected = rfe.fit_transform(X, y)\n",
    "\n",
    "# Display selected features\n",
    "print(\"Selected Features: \", X_selected)"
   ]
  },
  {
   "cell_type": "code",
   "execution_count": 25,
   "metadata": {},
   "outputs": [],
   "source": [
    "df = pd.DataFrame(X_selected, columns=[f\"FS{i}\" for i in range(1,12)])\n",
    "df[\"Diabetes_012\"] = y\n",
    "df.to_csv(f\"./processed_datasets/dataset_adasyn_rfe.csv\", index=False)"
   ]
  },
  {
   "cell_type": "markdown",
   "metadata": {},
   "source": [
    "## Hybrid FS (PCA + rfe)"
   ]
  },
  {
   "cell_type": "code",
   "execution_count": 40,
   "metadata": {},
   "outputs": [
    {
     "data": {
      "text/plain": [
       "PC1             0\n",
       "PC2             0\n",
       "PC3             0\n",
       "PC4             0\n",
       "PC5             0\n",
       "PC6             0\n",
       "PC7             0\n",
       "PC8             0\n",
       "PC9             0\n",
       "PC10            0\n",
       "PC11            0\n",
       "Diabetes_012    0\n",
       "dtype: int64"
      ]
     },
     "execution_count": 40,
     "metadata": {},
     "output_type": "execute_result"
    }
   ],
   "source": [
    "# PCA only\n",
    "df = pd.read_csv('./processed_datasets/dataset_without_da_pca.csv')\n",
    "df.isnull().sum()"
   ]
  },
  {
   "cell_type": "code",
   "execution_count": 41,
   "metadata": {},
   "outputs": [],
   "source": [
    "X = df.drop('Diabetes_012', axis=1)\n",
    "y = df['Diabetes_012']"
   ]
  },
  {
   "cell_type": "code",
   "execution_count": 42,
   "metadata": {},
   "outputs": [
    {
     "name": "stdout",
     "output_type": "stream",
     "text": [
      "Selected Features:  [[-3.19513537e+05 -6.50714623e+03 -8.72957629e-01 ... -2.63580436e-02\n",
      "  -1.55140710e-02 -3.73377095e-02]\n",
      " [-3.19512313e+05 -6.50709177e+03 -2.28756459e-02 ... -3.60749864e-02\n",
      "  -2.81744355e-02  2.40137281e-02]\n",
      " [-3.19511090e+05 -6.50703731e+03  3.12003705e-01 ... -2.46156232e-02\n",
      "   3.83564186e-02  2.62729087e-02]\n",
      " ...\n",
      " [ 3.31775576e+05 -4.71216855e+03 -8.00859600e-01 ... -3.26681902e-02\n",
      "   6.80200800e-02  1.83074300e-02]\n",
      " [ 3.31777439e+05 -4.71269865e+03 -9.55509753e-01 ... -3.31171810e-02\n",
      "   6.72811976e-02  1.97130483e-02]\n",
      " [ 3.31778662e+05 -4.71264419e+03 -6.51843002e-01 ... -1.70056102e-02\n",
      "   6.77543678e-02  8.91062358e-03]]\n"
     ]
    }
   ],
   "source": [
    "# Define the model\n",
    "model = RandomForestClassifier()\n",
    "\n",
    "# Perform RFE\n",
    "rfe = RFE(estimator=model, n_features_to_select=11)  # Keep  11 features\n",
    "X_selected = rfe.fit_transform(X, y)\n",
    "\n",
    "# Display selected features\n",
    "print(\"Selected Features: \", X_selected)"
   ]
  },
  {
   "cell_type": "code",
   "execution_count": 43,
   "metadata": {},
   "outputs": [],
   "source": [
    "df = pd.DataFrame(X_selected, columns=[f\"FS{i}\" for i in range(1,12)])\n",
    "df[\"Diabetes_012\"] = y\n",
    "df.to_csv(f\"./processed_datasets/dataset_without_da_pca_rfe.csv\", index=False)"
   ]
  },
  {
   "cell_type": "code",
   "execution_count": 26,
   "metadata": {},
   "outputs": [
    {
     "data": {
      "text/plain": [
       "PC1             0\n",
       "PC2             0\n",
       "PC3             0\n",
       "PC4             0\n",
       "PC5             0\n",
       "PC6             0\n",
       "PC7             0\n",
       "PC8             0\n",
       "PC9             0\n",
       "PC10            0\n",
       "PC11            0\n",
       "Diabetes_012    0\n",
       "dtype: int64"
      ]
     },
     "execution_count": 26,
     "metadata": {},
     "output_type": "execute_result"
    }
   ],
   "source": [
    "# ADASYN + PCA\n",
    "df = pd.read_csv('./processed_datasets/dataset_adasyn_pca.csv')\n",
    "df.isnull().sum()"
   ]
  },
  {
   "cell_type": "code",
   "execution_count": 27,
   "metadata": {},
   "outputs": [],
   "source": [
    "X = df.drop('Diabetes_012', axis=1)\n",
    "y = df['Diabetes_012']"
   ]
  },
  {
   "cell_type": "code",
   "execution_count": 28,
   "metadata": {},
   "outputs": [
    {
     "name": "stdout",
     "output_type": "stream",
     "text": [
      "Selected Features:  [[-2.31317420e+05 -8.95870634e-01  3.80038479e-01 ... -1.24873335e-02\n",
      "  -3.41902858e-02  2.56566415e-02]\n",
      " [-2.31316554e+05 -4.71607750e-02 -3.52738298e-02 ... -2.69958192e-02\n",
      "   2.46677171e-02  4.74026271e-03]\n",
      " [-2.31315688e+05  2.87714496e-01 -6.57549533e-02 ...  3.92764508e-02\n",
      "   3.00772987e-02  1.82401538e-02]\n",
      " ...\n",
      " [ 2.47934474e+05 -8.19468345e-01 -7.43034337e-02 ...  6.98636596e-02\n",
      "   2.16193859e-02  2.46094583e-02]\n",
      " [ 2.47936206e+05 -9.73551323e-01 -6.67499909e-02 ...  6.91264862e-02\n",
      "   2.33077121e-02  2.45706370e-02]\n",
      " [ 2.47937072e+05 -6.69343554e-01 -7.03335840e-02 ...  6.86673138e-02\n",
      "   1.29698206e-02  2.49300922e-02]]\n"
     ]
    }
   ],
   "source": [
    "# Define the model\n",
    "model = RandomForestClassifier()\n",
    "\n",
    "# Perform RFE\n",
    "rfe = RFE(estimator=model, n_features_to_select=11)  # Keep  11 features\n",
    "X_selected = rfe.fit_transform(X, y)\n",
    "\n",
    "# Display selected features\n",
    "print(\"Selected Features: \", X_selected)"
   ]
  },
  {
   "cell_type": "code",
   "execution_count": 29,
   "metadata": {},
   "outputs": [],
   "source": [
    "df = pd.DataFrame(X_selected, columns=[f\"FS{i}\" for i in range(1,12)])\n",
    "df[\"Diabetes_012\"] = y\n",
    "df.to_csv(f\"./processed_datasets/dataset_adasyn_pca_rfe.csv\", index=False)"
   ]
  },
  {
   "cell_type": "code",
   "execution_count": 30,
   "metadata": {},
   "outputs": [
    {
     "data": {
      "text/plain": [
       "PC1             0\n",
       "PC2             0\n",
       "PC3             0\n",
       "PC4             0\n",
       "PC5             0\n",
       "PC6             0\n",
       "PC7             0\n",
       "PC8             0\n",
       "PC9             0\n",
       "PC10            0\n",
       "PC11            0\n",
       "Diabetes_012    0\n",
       "dtype: int64"
      ]
     },
     "execution_count": 30,
     "metadata": {},
     "output_type": "execute_result"
    }
   ],
   "source": [
    "# SMOTE + PCA\n",
    "df = pd.read_csv('./processed_datasets/dataset_smote_pca.csv')\n",
    "df.isnull().sum()"
   ]
  },
  {
   "cell_type": "code",
   "execution_count": 31,
   "metadata": {},
   "outputs": [],
   "source": [
    "X = df.drop('Diabetes_012', axis=1)\n",
    "y = df['Diabetes_012']"
   ]
  },
  {
   "cell_type": "code",
   "execution_count": 32,
   "metadata": {},
   "outputs": [
    {
     "name": "stdout",
     "output_type": "stream",
     "text": [
      "Selected Features:  [[-2.30518601e+05 -8.80951203e-01  4.52828188e-01 ... -4.11766380e-02\n",
      "  -1.04331269e-02  2.48466667e-02]\n",
      " [-2.30517735e+05 -3.78041561e-02 -4.38703066e-02 ...  2.28884373e-02\n",
      "  -3.83675418e-02  2.92467322e-03]\n",
      " [-2.30516869e+05  3.00361329e-01 -7.49678266e-02 ...  4.17494827e-02\n",
      "   2.89870420e-02  1.70224721e-02]\n",
      " ...\n",
      " [ 2.48719072e+05 -3.46209364e-01 -1.87470408e-01 ... -2.49856545e-03\n",
      "  -5.86874845e-04  1.86848139e-02]\n",
      " [ 2.48720804e+05 -1.56957791e-01  1.44658445e-01 ...  1.79587067e-02\n",
      "  -3.15859357e-02  3.18421597e-02]\n",
      " [ 2.48721669e+05  3.73029047e-01  4.97216436e-01 ...  1.71908836e-02\n",
      "   1.48861274e-02  6.89441148e-03]]\n"
     ]
    }
   ],
   "source": [
    "# Define the model\n",
    "model = RandomForestClassifier()\n",
    "\n",
    "# Perform RFE\n",
    "rfe = RFE(estimator=model, n_features_to_select=11)  # Keep  11 features\n",
    "X_selected = rfe.fit_transform(X, y)\n",
    "\n",
    "# Display selected features\n",
    "print(\"Selected Features: \", X_selected)"
   ]
  },
  {
   "cell_type": "code",
   "execution_count": 33,
   "metadata": {},
   "outputs": [],
   "source": [
    "df = pd.DataFrame(X_selected, columns=[f\"FS{i}\" for i in range(1,12)])\n",
    "df[\"Diabetes_012\"] = y\n",
    "df.to_csv(f\"./processed_datasets/dataset_smote_pca_rfe.csv\", index=False)"
   ]
  },
  {
   "cell_type": "code",
   "execution_count": null,
   "metadata": {},
   "outputs": [],
   "source": []
  }
 ],
 "metadata": {
  "kernelspec": {
   "display_name": "env",
   "language": "python",
   "name": "python3"
  },
  "language_info": {
   "codemirror_mode": {
    "name": "ipython",
    "version": 3
   },
   "file_extension": ".py",
   "mimetype": "text/x-python",
   "name": "python",
   "nbconvert_exporter": "python",
   "pygments_lexer": "ipython3",
   "version": "3.13.1"
  }
 },
 "nbformat": 4,
 "nbformat_minor": 2
}
